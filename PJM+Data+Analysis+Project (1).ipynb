{
 "cells": [
  {
   "cell_type": "markdown",
   "metadata": {},
   "source": [
    "# Forecasting Electricity Demand: Exploring Predictive Models with PJM Hourly Load Data\n"
   ]
  },
  {
   "cell_type": "markdown",
   "metadata": {},
   "source": [
    "### This project aims to explore and model electricity load data from the PJM Interconnection.PJM is a regional transmission organization (RTO) that coordinates the movement of wholesale electricity in all or parts of 13 states and the District of Columbia.more details can be found here.The dataset used in this analysis is the \"PJM hourly Hourly Load: Metered data for AP zone.\"The dataset contains 8 columns:.Trough this notebook my aim is to buit machine learning based predictive model(Random Forest) to generate day-ahead forecast values for an ISO level load dataset.For this my analysis included data cleaning,Seasonal analysis,Modelling and visualizations.This notebook will make use of some basic Python, pandas, and Numpy."
   ]
  },
  {
   "cell_type": "markdown",
   "metadata": {},
   "source": [
    "## Setup\n",
    "\n",
    "Here are some of the basic modules you'll need for this problem."
   ]
  },
  {
   "cell_type": "code",
   "execution_count": 146,
   "metadata": {},
   "outputs": [],
   "source": [
    "import pandas as pd\n",
    "import matplotlib.pyplot as plt\n",
    "import numpy as np\n",
    "from sklearn.ensemble import RandomForestRegressor\n",
    "from sklearn.metrics import mean_squared_error\n",
    "from math import sqrt\n",
    "from sklearn.feature_selection import RFE"
   ]
  },
  {
   "cell_type": "markdown",
   "metadata": {},
   "source": [
    "## Get to know the dataset: PJM Hourly Load: Metered\n",
    "\n",
    "The dataset used in this analysis is the \"PJM hourly Hourly Load: Metered data for AP zone.The dataset consists of hrl_load_metered_AP.Here i only used AP zone region for my analysis and the dataset can be dowloaded from this link.Run this code cell to load the data into a pandas DataFrame named pjm_load and inspect a small sample.\n"
   ]
  },
  {
   "cell_type": "code",
   "execution_count": 147,
   "metadata": {
    "collapsed": true
   },
   "outputs": [],
   "source": [
    "pjm_load = pd.read_csv('hrl_load_metered_AP.csv')"
   ]
  },
  {
   "cell_type": "code",
   "execution_count": 148,
   "metadata": {},
   "outputs": [
    {
     "data": {
      "text/html": [
       "<div>\n",
       "<style scoped>\n",
       "    .dataframe tbody tr th:only-of-type {\n",
       "        vertical-align: middle;\n",
       "    }\n",
       "\n",
       "    .dataframe tbody tr th {\n",
       "        vertical-align: top;\n",
       "    }\n",
       "\n",
       "    .dataframe thead th {\n",
       "        text-align: right;\n",
       "    }\n",
       "</style>\n",
       "<table border=\"1\" class=\"dataframe\">\n",
       "  <thead>\n",
       "    <tr style=\"text-align: right;\">\n",
       "      <th></th>\n",
       "      <th>datetime_beginning_utc</th>\n",
       "      <th>datetime_beginning_ept</th>\n",
       "      <th>nerc_region</th>\n",
       "      <th>mkt_region</th>\n",
       "      <th>zone</th>\n",
       "      <th>load_area</th>\n",
       "      <th>mw</th>\n",
       "      <th>is_verified</th>\n",
       "    </tr>\n",
       "  </thead>\n",
       "  <tbody>\n",
       "    <tr>\n",
       "      <th>0</th>\n",
       "      <td>1/1/2023 5:00</td>\n",
       "      <td>1/1/2023 0:00</td>\n",
       "      <td>RFC</td>\n",
       "      <td>WEST</td>\n",
       "      <td>AP</td>\n",
       "      <td>AP</td>\n",
       "      <td>4634.392</td>\n",
       "      <td>True</td>\n",
       "    </tr>\n",
       "    <tr>\n",
       "      <th>1</th>\n",
       "      <td>1/1/2023 6:00</td>\n",
       "      <td>1/1/2023 1:00</td>\n",
       "      <td>RFC</td>\n",
       "      <td>WEST</td>\n",
       "      <td>AP</td>\n",
       "      <td>AP</td>\n",
       "      <td>4534.132</td>\n",
       "      <td>True</td>\n",
       "    </tr>\n",
       "    <tr>\n",
       "      <th>2</th>\n",
       "      <td>1/1/2023 7:00</td>\n",
       "      <td>1/1/2023 2:00</td>\n",
       "      <td>RFC</td>\n",
       "      <td>WEST</td>\n",
       "      <td>AP</td>\n",
       "      <td>AP</td>\n",
       "      <td>4465.419</td>\n",
       "      <td>True</td>\n",
       "    </tr>\n",
       "    <tr>\n",
       "      <th>3</th>\n",
       "      <td>1/1/2023 8:00</td>\n",
       "      <td>1/1/2023 3:00</td>\n",
       "      <td>RFC</td>\n",
       "      <td>WEST</td>\n",
       "      <td>AP</td>\n",
       "      <td>AP</td>\n",
       "      <td>4446.937</td>\n",
       "      <td>True</td>\n",
       "    </tr>\n",
       "    <tr>\n",
       "      <th>4</th>\n",
       "      <td>1/1/2023 9:00</td>\n",
       "      <td>1/1/2023 4:00</td>\n",
       "      <td>RFC</td>\n",
       "      <td>WEST</td>\n",
       "      <td>AP</td>\n",
       "      <td>AP</td>\n",
       "      <td>4477.269</td>\n",
       "      <td>True</td>\n",
       "    </tr>\n",
       "    <tr>\n",
       "      <th>...</th>\n",
       "      <td>...</td>\n",
       "      <td>...</td>\n",
       "      <td>...</td>\n",
       "      <td>...</td>\n",
       "      <td>...</td>\n",
       "      <td>...</td>\n",
       "      <td>...</td>\n",
       "      <td>...</td>\n",
       "    </tr>\n",
       "    <tr>\n",
       "      <th>8755</th>\n",
       "      <td>1/1/2024 0:00</td>\n",
       "      <td>12/31/2023 19:00</td>\n",
       "      <td>RFC</td>\n",
       "      <td>WEST</td>\n",
       "      <td>AP</td>\n",
       "      <td>AP</td>\n",
       "      <td>5896.602</td>\n",
       "      <td>True</td>\n",
       "    </tr>\n",
       "    <tr>\n",
       "      <th>8756</th>\n",
       "      <td>1/1/2024 1:00</td>\n",
       "      <td>12/31/2023 20:00</td>\n",
       "      <td>RFC</td>\n",
       "      <td>WEST</td>\n",
       "      <td>AP</td>\n",
       "      <td>AP</td>\n",
       "      <td>5758.356</td>\n",
       "      <td>True</td>\n",
       "    </tr>\n",
       "    <tr>\n",
       "      <th>8757</th>\n",
       "      <td>1/1/2024 2:00</td>\n",
       "      <td>12/31/2023 21:00</td>\n",
       "      <td>RFC</td>\n",
       "      <td>WEST</td>\n",
       "      <td>AP</td>\n",
       "      <td>AP</td>\n",
       "      <td>5610.514</td>\n",
       "      <td>True</td>\n",
       "    </tr>\n",
       "    <tr>\n",
       "      <th>8758</th>\n",
       "      <td>1/1/2024 3:00</td>\n",
       "      <td>12/31/2023 22:00</td>\n",
       "      <td>RFC</td>\n",
       "      <td>WEST</td>\n",
       "      <td>AP</td>\n",
       "      <td>AP</td>\n",
       "      <td>5467.885</td>\n",
       "      <td>True</td>\n",
       "    </tr>\n",
       "    <tr>\n",
       "      <th>8759</th>\n",
       "      <td>1/1/2024 4:00</td>\n",
       "      <td>12/31/2023 23:00</td>\n",
       "      <td>RFC</td>\n",
       "      <td>WEST</td>\n",
       "      <td>AP</td>\n",
       "      <td>AP</td>\n",
       "      <td>5345.135</td>\n",
       "      <td>True</td>\n",
       "    </tr>\n",
       "  </tbody>\n",
       "</table>\n",
       "<p>8760 rows × 8 columns</p>\n",
       "</div>"
      ],
      "text/plain": [
       "     datetime_beginning_utc datetime_beginning_ept nerc_region mkt_region  \\\n",
       "0             1/1/2023 5:00          1/1/2023 0:00         RFC       WEST   \n",
       "1             1/1/2023 6:00          1/1/2023 1:00         RFC       WEST   \n",
       "2             1/1/2023 7:00          1/1/2023 2:00         RFC       WEST   \n",
       "3             1/1/2023 8:00          1/1/2023 3:00         RFC       WEST   \n",
       "4             1/1/2023 9:00          1/1/2023 4:00         RFC       WEST   \n",
       "...                     ...                    ...         ...        ...   \n",
       "8755          1/1/2024 0:00       12/31/2023 19:00         RFC       WEST   \n",
       "8756          1/1/2024 1:00       12/31/2023 20:00         RFC       WEST   \n",
       "8757          1/1/2024 2:00       12/31/2023 21:00         RFC       WEST   \n",
       "8758          1/1/2024 3:00       12/31/2023 22:00         RFC       WEST   \n",
       "8759          1/1/2024 4:00       12/31/2023 23:00         RFC       WEST   \n",
       "\n",
       "     zone load_area        mw  is_verified  \n",
       "0      AP        AP  4634.392         True  \n",
       "1      AP        AP  4534.132         True  \n",
       "2      AP        AP  4465.419         True  \n",
       "3      AP        AP  4446.937         True  \n",
       "4      AP        AP  4477.269         True  \n",
       "...   ...       ...       ...          ...  \n",
       "8755   AP        AP  5896.602         True  \n",
       "8756   AP        AP  5758.356         True  \n",
       "8757   AP        AP  5610.514         True  \n",
       "8758   AP        AP  5467.885         True  \n",
       "8759   AP        AP  5345.135         True  \n",
       "\n",
       "[8760 rows x 8 columns]"
      ]
     },
     "execution_count": 148,
     "metadata": {},
     "output_type": "execute_result"
    }
   ],
   "source": [
    "pjm_load"
   ]
  },
  {
   "cell_type": "markdown",
   "metadata": {},
   "source": [
    "Here i only need the dataset contains two columns: \"datetime_beginning_ept\" representing the timestamp and \"mw\" representing the electricity load in megawatts."
   ]
  },
  {
   "cell_type": "code",
   "execution_count": 149,
   "metadata": {
    "collapsed": true
   },
   "outputs": [],
   "source": [
    "df_pjm_load_required = pjm_load[['datetime_beginning_ept','mw']]"
   ]
  },
  {
   "cell_type": "code",
   "execution_count": 150,
   "metadata": {},
   "outputs": [
    {
     "name": "stdout",
     "output_type": "stream",
     "text": [
      "datetime_beginning_ept     object\n",
      "mw                        float64\n",
      "dtype: object\n"
     ]
    }
   ],
   "source": [
    "print(df_pjm_load_required.dtypes)"
   ]
  },
  {
   "cell_type": "markdown",
   "metadata": {},
   "source": [
    "## Data Cleaning\n",
    "\n",
    "Through next couple of cells am doing several cleaning steps, including sorting by datetime, removing duplicate entries, and filling missing values using forward filling (ffill)documentation method."
   ]
  },
  {
   "cell_type": "code",
   "execution_count": 151,
   "metadata": {
    "collapsed": true
   },
   "outputs": [],
   "source": [
    "df_pjm_load = df_pjm_load_required.copy()\n",
    "df_pjm_load.loc[:, 'datetime'] = pd.to_datetime(df_pjm_load['datetime_beginning_ept'])"
   ]
  },
  {
   "cell_type": "code",
   "execution_count": 152,
   "metadata": {},
   "outputs": [
    {
     "data": {
      "text/html": [
       "<div>\n",
       "<style scoped>\n",
       "    .dataframe tbody tr th:only-of-type {\n",
       "        vertical-align: middle;\n",
       "    }\n",
       "\n",
       "    .dataframe tbody tr th {\n",
       "        vertical-align: top;\n",
       "    }\n",
       "\n",
       "    .dataframe thead th {\n",
       "        text-align: right;\n",
       "    }\n",
       "</style>\n",
       "<table border=\"1\" class=\"dataframe\">\n",
       "  <thead>\n",
       "    <tr style=\"text-align: right;\">\n",
       "      <th></th>\n",
       "      <th>datetime_beginning_ept</th>\n",
       "      <th>mw</th>\n",
       "      <th>datetime</th>\n",
       "    </tr>\n",
       "  </thead>\n",
       "  <tbody>\n",
       "    <tr>\n",
       "      <th>0</th>\n",
       "      <td>1/1/2023 0:00</td>\n",
       "      <td>4634.392</td>\n",
       "      <td>2023-01-01 00:00:00</td>\n",
       "    </tr>\n",
       "    <tr>\n",
       "      <th>1</th>\n",
       "      <td>1/1/2023 1:00</td>\n",
       "      <td>4534.132</td>\n",
       "      <td>2023-01-01 01:00:00</td>\n",
       "    </tr>\n",
       "    <tr>\n",
       "      <th>2</th>\n",
       "      <td>1/1/2023 2:00</td>\n",
       "      <td>4465.419</td>\n",
       "      <td>2023-01-01 02:00:00</td>\n",
       "    </tr>\n",
       "    <tr>\n",
       "      <th>3</th>\n",
       "      <td>1/1/2023 3:00</td>\n",
       "      <td>4446.937</td>\n",
       "      <td>2023-01-01 03:00:00</td>\n",
       "    </tr>\n",
       "    <tr>\n",
       "      <th>4</th>\n",
       "      <td>1/1/2023 4:00</td>\n",
       "      <td>4477.269</td>\n",
       "      <td>2023-01-01 04:00:00</td>\n",
       "    </tr>\n",
       "    <tr>\n",
       "      <th>...</th>\n",
       "      <td>...</td>\n",
       "      <td>...</td>\n",
       "      <td>...</td>\n",
       "    </tr>\n",
       "    <tr>\n",
       "      <th>8755</th>\n",
       "      <td>12/31/2023 19:00</td>\n",
       "      <td>5896.602</td>\n",
       "      <td>2023-12-31 19:00:00</td>\n",
       "    </tr>\n",
       "    <tr>\n",
       "      <th>8756</th>\n",
       "      <td>12/31/2023 20:00</td>\n",
       "      <td>5758.356</td>\n",
       "      <td>2023-12-31 20:00:00</td>\n",
       "    </tr>\n",
       "    <tr>\n",
       "      <th>8757</th>\n",
       "      <td>12/31/2023 21:00</td>\n",
       "      <td>5610.514</td>\n",
       "      <td>2023-12-31 21:00:00</td>\n",
       "    </tr>\n",
       "    <tr>\n",
       "      <th>8758</th>\n",
       "      <td>12/31/2023 22:00</td>\n",
       "      <td>5467.885</td>\n",
       "      <td>2023-12-31 22:00:00</td>\n",
       "    </tr>\n",
       "    <tr>\n",
       "      <th>8759</th>\n",
       "      <td>12/31/2023 23:00</td>\n",
       "      <td>5345.135</td>\n",
       "      <td>2023-12-31 23:00:00</td>\n",
       "    </tr>\n",
       "  </tbody>\n",
       "</table>\n",
       "<p>8760 rows × 3 columns</p>\n",
       "</div>"
      ],
      "text/plain": [
       "     datetime_beginning_ept        mw            datetime\n",
       "0             1/1/2023 0:00  4634.392 2023-01-01 00:00:00\n",
       "1             1/1/2023 1:00  4534.132 2023-01-01 01:00:00\n",
       "2             1/1/2023 2:00  4465.419 2023-01-01 02:00:00\n",
       "3             1/1/2023 3:00  4446.937 2023-01-01 03:00:00\n",
       "4             1/1/2023 4:00  4477.269 2023-01-01 04:00:00\n",
       "...                     ...       ...                 ...\n",
       "8755       12/31/2023 19:00  5896.602 2023-12-31 19:00:00\n",
       "8756       12/31/2023 20:00  5758.356 2023-12-31 20:00:00\n",
       "8757       12/31/2023 21:00  5610.514 2023-12-31 21:00:00\n",
       "8758       12/31/2023 22:00  5467.885 2023-12-31 22:00:00\n",
       "8759       12/31/2023 23:00  5345.135 2023-12-31 23:00:00\n",
       "\n",
       "[8760 rows x 3 columns]"
      ]
     },
     "execution_count": 152,
     "metadata": {},
     "output_type": "execute_result"
    }
   ],
   "source": [
    "df_pjm_load"
   ]
  },
  {
   "cell_type": "code",
   "execution_count": 153,
   "metadata": {},
   "outputs": [
    {
     "data": {
      "text/plain": [
       "<AxesSubplot:xlabel='Date time', ylabel='Load (MW)'>"
      ]
     },
     "execution_count": 153,
     "metadata": {},
     "output_type": "execute_result"
    },
    {
     "data": {
      "image/png": "[encoded data removed]",
      "text/plain": [
       "<Figure size 432x288 with 1 Axes>"
      ]
     },
     "metadata": {
      "needs_background": "light"
     },
     "output_type": "display_data"
    }
   ],
   "source": [
    "df_pjm_load.plot(x='datetime', y='mw', xlabel='Date time', ylabel='Load (MW)' )"
   ]
  },
  {
   "cell_type": "markdown",
   "metadata": {},
   "source": [
    "Data cleaning"
   ]
  },
  {
   "cell_type": "markdown",
   "metadata": {},
   "source": [
    "Data sorting"
   ]
  },
  {
   "cell_type": "code",
   "execution_count": 154,
   "metadata": {
    "collapsed": true
   },
   "outputs": [],
   "source": [
    "df_pjm_load = df_pjm_load.sort_values(by='datetime', ascending= True)"
   ]
  },
  {
   "cell_type": "code",
   "execution_count": 155,
   "metadata": {},
   "outputs": [
    {
     "data": {
      "text/html": [
       "<div>\n",
       "<style scoped>\n",
       "    .dataframe tbody tr th:only-of-type {\n",
       "        vertical-align: middle;\n",
       "    }\n",
       "\n",
       "    .dataframe tbody tr th {\n",
       "        vertical-align: top;\n",
       "    }\n",
       "\n",
       "    .dataframe thead th {\n",
       "        text-align: right;\n",
       "    }\n",
       "</style>\n",
       "<table border=\"1\" class=\"dataframe\">\n",
       "  <thead>\n",
       "    <tr style=\"text-align: right;\">\n",
       "      <th></th>\n",
       "      <th>datetime_beginning_ept</th>\n",
       "      <th>mw</th>\n",
       "      <th>datetime</th>\n",
       "    </tr>\n",
       "  </thead>\n",
       "  <tbody>\n",
       "    <tr>\n",
       "      <th>0</th>\n",
       "      <td>1/1/2023 0:00</td>\n",
       "      <td>4634.392</td>\n",
       "      <td>2023-01-01 00:00:00</td>\n",
       "    </tr>\n",
       "    <tr>\n",
       "      <th>1</th>\n",
       "      <td>1/1/2023 1:00</td>\n",
       "      <td>4534.132</td>\n",
       "      <td>2023-01-01 01:00:00</td>\n",
       "    </tr>\n",
       "    <tr>\n",
       "      <th>2</th>\n",
       "      <td>1/1/2023 2:00</td>\n",
       "      <td>4465.419</td>\n",
       "      <td>2023-01-01 02:00:00</td>\n",
       "    </tr>\n",
       "    <tr>\n",
       "      <th>3</th>\n",
       "      <td>1/1/2023 3:00</td>\n",
       "      <td>4446.937</td>\n",
       "      <td>2023-01-01 03:00:00</td>\n",
       "    </tr>\n",
       "    <tr>\n",
       "      <th>4</th>\n",
       "      <td>1/1/2023 4:00</td>\n",
       "      <td>4477.269</td>\n",
       "      <td>2023-01-01 04:00:00</td>\n",
       "    </tr>\n",
       "    <tr>\n",
       "      <th>...</th>\n",
       "      <td>...</td>\n",
       "      <td>...</td>\n",
       "      <td>...</td>\n",
       "    </tr>\n",
       "    <tr>\n",
       "      <th>8755</th>\n",
       "      <td>12/31/2023 19:00</td>\n",
       "      <td>5896.602</td>\n",
       "      <td>2023-12-31 19:00:00</td>\n",
       "    </tr>\n",
       "    <tr>\n",
       "      <th>8756</th>\n",
       "      <td>12/31/2023 20:00</td>\n",
       "      <td>5758.356</td>\n",
       "      <td>2023-12-31 20:00:00</td>\n",
       "    </tr>\n",
       "    <tr>\n",
       "      <th>8757</th>\n",
       "      <td>12/31/2023 21:00</td>\n",
       "      <td>5610.514</td>\n",
       "      <td>2023-12-31 21:00:00</td>\n",
       "    </tr>\n",
       "    <tr>\n",
       "      <th>8758</th>\n",
       "      <td>12/31/2023 22:00</td>\n",
       "      <td>5467.885</td>\n",
       "      <td>2023-12-31 22:00:00</td>\n",
       "    </tr>\n",
       "    <tr>\n",
       "      <th>8759</th>\n",
       "      <td>12/31/2023 23:00</td>\n",
       "      <td>5345.135</td>\n",
       "      <td>2023-12-31 23:00:00</td>\n",
       "    </tr>\n",
       "  </tbody>\n",
       "</table>\n",
       "<p>8760 rows × 3 columns</p>\n",
       "</div>"
      ],
      "text/plain": [
       "     datetime_beginning_ept        mw            datetime\n",
       "0             1/1/2023 0:00  4634.392 2023-01-01 00:00:00\n",
       "1             1/1/2023 1:00  4534.132 2023-01-01 01:00:00\n",
       "2             1/1/2023 2:00  4465.419 2023-01-01 02:00:00\n",
       "3             1/1/2023 3:00  4446.937 2023-01-01 03:00:00\n",
       "4             1/1/2023 4:00  4477.269 2023-01-01 04:00:00\n",
       "...                     ...       ...                 ...\n",
       "8755       12/31/2023 19:00  5896.602 2023-12-31 19:00:00\n",
       "8756       12/31/2023 20:00  5758.356 2023-12-31 20:00:00\n",
       "8757       12/31/2023 21:00  5610.514 2023-12-31 21:00:00\n",
       "8758       12/31/2023 22:00  5467.885 2023-12-31 22:00:00\n",
       "8759       12/31/2023 23:00  5345.135 2023-12-31 23:00:00\n",
       "\n",
       "[8760 rows x 3 columns]"
      ]
     },
     "execution_count": 155,
     "metadata": {},
     "output_type": "execute_result"
    }
   ],
   "source": [
    "df_pjm_load"
   ]
  },
  {
   "cell_type": "code",
   "execution_count": 156,
   "metadata": {},
   "outputs": [
    {
     "name": "stdout",
     "output_type": "stream",
     "text": [
      "     datetime_beginning_ept        mw            datetime\n",
      "7392         11/5/2023 1:00  4320.282 2023-11-05 01:00:00\n",
      "7393         11/5/2023 1:00  4257.227 2023-11-05 01:00:00\n"
     ]
    }
   ],
   "source": [
    "duplicates = df_pjm_load.duplicated(subset='datetime', keep=False)\n",
    "print(df_pjm_load[duplicates])"
   ]
  },
  {
   "cell_type": "code",
   "execution_count": 157,
   "metadata": {
    "collapsed": true
   },
   "outputs": [],
   "source": [
    "df_pjm_load = df_pjm_load.drop_duplicates(subset=['datetime'], keep='last')"
   ]
  },
  {
   "cell_type": "code",
   "execution_count": 158,
   "metadata": {},
   "outputs": [
    {
     "name": "stdout",
     "output_type": "stream",
     "text": [
      "Empty DataFrame\n",
      "Columns: [datetime_beginning_ept, mw, datetime]\n",
      "Index: []\n"
     ]
    }
   ],
   "source": [
    "duplicates = df_pjm_load.duplicated(subset='datetime', keep=False)\n",
    "print(df_pjm_load[duplicates])"
   ]
  },
  {
   "cell_type": "code",
   "execution_count": 159,
   "metadata": {
    "collapsed": true
   },
   "outputs": [],
   "source": [
    "df_pjm_load = df_pjm_load.set_index('datetime')"
   ]
  },
  {
   "cell_type": "code",
   "execution_count": 160,
   "metadata": {
    "collapsed": true
   },
   "outputs": [],
   "source": [
    "full_range = pd.date_range(start=df_pjm_load.index.min(), end=df_pjm_load.index.max(), freq='H')\n"
   ]
  },
  {
   "cell_type": "code",
   "execution_count": 161,
   "metadata": {},
   "outputs": [
    {
     "data": {
      "text/plain": [
       "DatetimeIndex(['2023-01-01 00:00:00', '2023-01-01 01:00:00',\n",
       "               '2023-01-01 02:00:00', '2023-01-01 03:00:00',\n",
       "               '2023-01-01 04:00:00', '2023-01-01 05:00:00',\n",
       "               '2023-01-01 06:00:00', '2023-01-01 07:00:00',\n",
       "               '2023-01-01 08:00:00', '2023-01-01 09:00:00',\n",
       "               ...\n",
       "               '2023-12-31 14:00:00', '2023-12-31 15:00:00',\n",
       "               '2023-12-31 16:00:00', '2023-12-31 17:00:00',\n",
       "               '2023-12-31 18:00:00', '2023-12-31 19:00:00',\n",
       "               '2023-12-31 20:00:00', '2023-12-31 21:00:00',\n",
       "               '2023-12-31 22:00:00', '2023-12-31 23:00:00'],\n",
       "              dtype='datetime64[ns]', length=8760, freq='H')"
      ]
     },
     "execution_count": 161,
     "metadata": {},
     "output_type": "execute_result"
    }
   ],
   "source": [
    "full_range"
   ]
  },
  {
   "cell_type": "code",
   "execution_count": 162,
   "metadata": {},
   "outputs": [
    {
     "name": "stdout",
     "output_type": "stream",
     "text": [
      "DatetimeIndex(['2023-03-12 02:00:00'], dtype='datetime64[ns]', freq=None)\n"
     ]
    }
   ],
   "source": [
    "missing_hours = full_range.difference(df_pjm_load.index)\n",
    "print(missing_hours)"
   ]
  },
  {
   "cell_type": "code",
   "execution_count": 163,
   "metadata": {},
   "outputs": [
    {
     "name": "stdout",
     "output_type": "stream",
     "text": [
      "datetime_beginning_ept    False\n",
      "mw                        False\n",
      "dtype: bool\n"
     ]
    }
   ],
   "source": [
    "print(df_pjm_load.isna().any())"
   ]
  },
  {
   "cell_type": "code",
   "execution_count": null,
   "metadata": {
    "collapsed": true
   },
   "outputs": [],
   "source": []
  },
  {
   "cell_type": "code",
   "execution_count": 164,
   "metadata": {
    "collapsed": true
   },
   "outputs": [],
   "source": [
    "df_pjm_load_cleaned = df_pjm_load.resample('H').ffill()"
   ]
  },
  {
   "cell_type": "code",
   "execution_count": 165,
   "metadata": {},
   "outputs": [
    {
     "data": {
      "text/html": [
       "<div>\n",
       "<style scoped>\n",
       "    .dataframe tbody tr th:only-of-type {\n",
       "        vertical-align: middle;\n",
       "    }\n",
       "\n",
       "    .dataframe tbody tr th {\n",
       "        vertical-align: top;\n",
       "    }\n",
       "\n",
       "    .dataframe thead th {\n",
       "        text-align: right;\n",
       "    }\n",
       "</style>\n",
       "<table border=\"1\" class=\"dataframe\">\n",
       "  <thead>\n",
       "    <tr style=\"text-align: right;\">\n",
       "      <th></th>\n",
       "      <th>datetime_beginning_ept</th>\n",
       "      <th>mw</th>\n",
       "    </tr>\n",
       "    <tr>\n",
       "      <th>datetime</th>\n",
       "      <th></th>\n",
       "      <th></th>\n",
       "    </tr>\n",
       "  </thead>\n",
       "  <tbody>\n",
       "    <tr>\n",
       "      <th>2023-01-01 00:00:00</th>\n",
       "      <td>1/1/2023 0:00</td>\n",
       "      <td>4634.392</td>\n",
       "    </tr>\n",
       "    <tr>\n",
       "      <th>2023-01-01 01:00:00</th>\n",
       "      <td>1/1/2023 1:00</td>\n",
       "      <td>4534.132</td>\n",
       "    </tr>\n",
       "    <tr>\n",
       "      <th>2023-01-01 02:00:00</th>\n",
       "      <td>1/1/2023 2:00</td>\n",
       "      <td>4465.419</td>\n",
       "    </tr>\n",
       "    <tr>\n",
       "      <th>2023-01-01 03:00:00</th>\n",
       "      <td>1/1/2023 3:00</td>\n",
       "      <td>4446.937</td>\n",
       "    </tr>\n",
       "    <tr>\n",
       "      <th>2023-01-01 04:00:00</th>\n",
       "      <td>1/1/2023 4:00</td>\n",
       "      <td>4477.269</td>\n",
       "    </tr>\n",
       "    <tr>\n",
       "      <th>...</th>\n",
       "      <td>...</td>\n",
       "      <td>...</td>\n",
       "    </tr>\n",
       "    <tr>\n",
       "      <th>2023-12-31 19:00:00</th>\n",
       "      <td>12/31/2023 19:00</td>\n",
       "      <td>5896.602</td>\n",
       "    </tr>\n",
       "    <tr>\n",
       "      <th>2023-12-31 20:00:00</th>\n",
       "      <td>12/31/2023 20:00</td>\n",
       "      <td>5758.356</td>\n",
       "    </tr>\n",
       "    <tr>\n",
       "      <th>2023-12-31 21:00:00</th>\n",
       "      <td>12/31/2023 21:00</td>\n",
       "      <td>5610.514</td>\n",
       "    </tr>\n",
       "    <tr>\n",
       "      <th>2023-12-31 22:00:00</th>\n",
       "      <td>12/31/2023 22:00</td>\n",
       "      <td>5467.885</td>\n",
       "    </tr>\n",
       "    <tr>\n",
       "      <th>2023-12-31 23:00:00</th>\n",
       "      <td>12/31/2023 23:00</td>\n",
       "      <td>5345.135</td>\n",
       "    </tr>\n",
       "  </tbody>\n",
       "</table>\n",
       "<p>8760 rows × 2 columns</p>\n",
       "</div>"
      ],
      "text/plain": [
       "                    datetime_beginning_ept        mw\n",
       "datetime                                            \n",
       "2023-01-01 00:00:00          1/1/2023 0:00  4634.392\n",
       "2023-01-01 01:00:00          1/1/2023 1:00  4534.132\n",
       "2023-01-01 02:00:00          1/1/2023 2:00  4465.419\n",
       "2023-01-01 03:00:00          1/1/2023 3:00  4446.937\n",
       "2023-01-01 04:00:00          1/1/2023 4:00  4477.269\n",
       "...                                    ...       ...\n",
       "2023-12-31 19:00:00       12/31/2023 19:00  5896.602\n",
       "2023-12-31 20:00:00       12/31/2023 20:00  5758.356\n",
       "2023-12-31 21:00:00       12/31/2023 21:00  5610.514\n",
       "2023-12-31 22:00:00       12/31/2023 22:00  5467.885\n",
       "2023-12-31 23:00:00       12/31/2023 23:00  5345.135\n",
       "\n",
       "[8760 rows x 2 columns]"
      ]
     },
     "execution_count": 165,
     "metadata": {},
     "output_type": "execute_result"
    }
   ],
   "source": [
    "df_pjm_load_cleaned"
   ]
  },
  {
   "cell_type": "code",
   "execution_count": 166,
   "metadata": {},
   "outputs": [
    {
     "name": "stdout",
     "output_type": "stream",
     "text": [
      "DatetimeIndex([], dtype='datetime64[ns]', freq='H')\n"
     ]
    }
   ],
   "source": [
    "missing_hours = full_range.difference(df_pjm_load_cleaned.index)\n",
    "print(missing_hours)"
   ]
  },
  {
   "cell_type": "code",
   "execution_count": 167,
   "metadata": {},
   "outputs": [],
   "source": [
    "#df_pjm_load_cleaned.reset_index()"
   ]
  },
  {
   "cell_type": "code",
   "execution_count": 168,
   "metadata": {},
   "outputs": [],
   "source": [
    "#df_pjm_load_cleaned.set_index('datetime', inplace=True)"
   ]
  },
  {
   "cell_type": "code",
   "execution_count": 169,
   "metadata": {},
   "outputs": [
    {
     "data": {
      "text/html": [
       "<div>\n",
       "<style scoped>\n",
       "    .dataframe tbody tr th:only-of-type {\n",
       "        vertical-align: middle;\n",
       "    }\n",
       "\n",
       "    .dataframe tbody tr th {\n",
       "        vertical-align: top;\n",
       "    }\n",
       "\n",
       "    .dataframe thead th {\n",
       "        text-align: right;\n",
       "    }\n",
       "</style>\n",
       "<table border=\"1\" class=\"dataframe\">\n",
       "  <thead>\n",
       "    <tr style=\"text-align: right;\">\n",
       "      <th></th>\n",
       "      <th>datetime_beginning_ept</th>\n",
       "      <th>mw</th>\n",
       "    </tr>\n",
       "    <tr>\n",
       "      <th>datetime</th>\n",
       "      <th></th>\n",
       "      <th></th>\n",
       "    </tr>\n",
       "  </thead>\n",
       "  <tbody>\n",
       "    <tr>\n",
       "      <th>2023-01-01 00:00:00</th>\n",
       "      <td>1/1/2023 0:00</td>\n",
       "      <td>4634.392</td>\n",
       "    </tr>\n",
       "    <tr>\n",
       "      <th>2023-01-01 01:00:00</th>\n",
       "      <td>1/1/2023 1:00</td>\n",
       "      <td>4534.132</td>\n",
       "    </tr>\n",
       "    <tr>\n",
       "      <th>2023-01-01 02:00:00</th>\n",
       "      <td>1/1/2023 2:00</td>\n",
       "      <td>4465.419</td>\n",
       "    </tr>\n",
       "    <tr>\n",
       "      <th>2023-01-01 03:00:00</th>\n",
       "      <td>1/1/2023 3:00</td>\n",
       "      <td>4446.937</td>\n",
       "    </tr>\n",
       "    <tr>\n",
       "      <th>2023-01-01 04:00:00</th>\n",
       "      <td>1/1/2023 4:00</td>\n",
       "      <td>4477.269</td>\n",
       "    </tr>\n",
       "    <tr>\n",
       "      <th>...</th>\n",
       "      <td>...</td>\n",
       "      <td>...</td>\n",
       "    </tr>\n",
       "    <tr>\n",
       "      <th>2023-12-31 19:00:00</th>\n",
       "      <td>12/31/2023 19:00</td>\n",
       "      <td>5896.602</td>\n",
       "    </tr>\n",
       "    <tr>\n",
       "      <th>2023-12-31 20:00:00</th>\n",
       "      <td>12/31/2023 20:00</td>\n",
       "      <td>5758.356</td>\n",
       "    </tr>\n",
       "    <tr>\n",
       "      <th>2023-12-31 21:00:00</th>\n",
       "      <td>12/31/2023 21:00</td>\n",
       "      <td>5610.514</td>\n",
       "    </tr>\n",
       "    <tr>\n",
       "      <th>2023-12-31 22:00:00</th>\n",
       "      <td>12/31/2023 22:00</td>\n",
       "      <td>5467.885</td>\n",
       "    </tr>\n",
       "    <tr>\n",
       "      <th>2023-12-31 23:00:00</th>\n",
       "      <td>12/31/2023 23:00</td>\n",
       "      <td>5345.135</td>\n",
       "    </tr>\n",
       "  </tbody>\n",
       "</table>\n",
       "<p>8760 rows × 2 columns</p>\n",
       "</div>"
      ],
      "text/plain": [
       "                    datetime_beginning_ept        mw\n",
       "datetime                                            \n",
       "2023-01-01 00:00:00          1/1/2023 0:00  4634.392\n",
       "2023-01-01 01:00:00          1/1/2023 1:00  4534.132\n",
       "2023-01-01 02:00:00          1/1/2023 2:00  4465.419\n",
       "2023-01-01 03:00:00          1/1/2023 3:00  4446.937\n",
       "2023-01-01 04:00:00          1/1/2023 4:00  4477.269\n",
       "...                                    ...       ...\n",
       "2023-12-31 19:00:00       12/31/2023 19:00  5896.602\n",
       "2023-12-31 20:00:00       12/31/2023 20:00  5758.356\n",
       "2023-12-31 21:00:00       12/31/2023 21:00  5610.514\n",
       "2023-12-31 22:00:00       12/31/2023 22:00  5467.885\n",
       "2023-12-31 23:00:00       12/31/2023 23:00  5345.135\n",
       "\n",
       "[8760 rows x 2 columns]"
      ]
     },
     "execution_count": 169,
     "metadata": {},
     "output_type": "execute_result"
    }
   ],
   "source": [
    "df_pjm_load_cleaned"
   ]
  },
  {
   "cell_type": "markdown",
   "metadata": {},
   "source": [
    "## Seasonal Analysis\n",
    "Data was split into seasons: winter, spring, summer, and fall.The dataset was segmented into four seasons: winter, spring, summer, and fall. Each season's data was extracted and analyzed separately to understand seasonal load patterns.\n"
   ]
  },
  {
   "cell_type": "code",
   "execution_count": 183,
   "metadata": {},
   "outputs": [
    {
     "data": {
      "text/html": [
       "<div>\n",
       "<style scoped>\n",
       "    .dataframe tbody tr th:only-of-type {\n",
       "        vertical-align: middle;\n",
       "    }\n",
       "\n",
       "    .dataframe tbody tr th {\n",
       "        vertical-align: top;\n",
       "    }\n",
       "\n",
       "    .dataframe thead th {\n",
       "        text-align: right;\n",
       "    }\n",
       "</style>\n",
       "<table border=\"1\" class=\"dataframe\">\n",
       "  <thead>\n",
       "    <tr style=\"text-align: right;\">\n",
       "      <th></th>\n",
       "      <th>datetime</th>\n",
       "      <th>datetime_beginning_ept</th>\n",
       "      <th>mw</th>\n",
       "    </tr>\n",
       "  </thead>\n",
       "  <tbody>\n",
       "    <tr>\n",
       "      <th>0</th>\n",
       "      <td>2023-01-01 00:00:00</td>\n",
       "      <td>1/1/2023 0:00</td>\n",
       "      <td>4634.392</td>\n",
       "    </tr>\n",
       "    <tr>\n",
       "      <th>1</th>\n",
       "      <td>2023-01-01 01:00:00</td>\n",
       "      <td>1/1/2023 1:00</td>\n",
       "      <td>4534.132</td>\n",
       "    </tr>\n",
       "    <tr>\n",
       "      <th>2</th>\n",
       "      <td>2023-01-01 02:00:00</td>\n",
       "      <td>1/1/2023 2:00</td>\n",
       "      <td>4465.419</td>\n",
       "    </tr>\n",
       "    <tr>\n",
       "      <th>3</th>\n",
       "      <td>2023-01-01 03:00:00</td>\n",
       "      <td>1/1/2023 3:00</td>\n",
       "      <td>4446.937</td>\n",
       "    </tr>\n",
       "    <tr>\n",
       "      <th>4</th>\n",
       "      <td>2023-01-01 04:00:00</td>\n",
       "      <td>1/1/2023 4:00</td>\n",
       "      <td>4477.269</td>\n",
       "    </tr>\n",
       "    <tr>\n",
       "      <th>...</th>\n",
       "      <td>...</td>\n",
       "      <td>...</td>\n",
       "      <td>...</td>\n",
       "    </tr>\n",
       "    <tr>\n",
       "      <th>2155</th>\n",
       "      <td>2023-03-31 19:00:00</td>\n",
       "      <td>3/31/2023 19:00</td>\n",
       "      <td>5455.426</td>\n",
       "    </tr>\n",
       "    <tr>\n",
       "      <th>2156</th>\n",
       "      <td>2023-03-31 20:00:00</td>\n",
       "      <td>3/31/2023 20:00</td>\n",
       "      <td>5431.480</td>\n",
       "    </tr>\n",
       "    <tr>\n",
       "      <th>2157</th>\n",
       "      <td>2023-03-31 21:00:00</td>\n",
       "      <td>3/31/2023 21:00</td>\n",
       "      <td>5252.801</td>\n",
       "    </tr>\n",
       "    <tr>\n",
       "      <th>2158</th>\n",
       "      <td>2023-03-31 22:00:00</td>\n",
       "      <td>3/31/2023 22:00</td>\n",
       "      <td>4959.678</td>\n",
       "    </tr>\n",
       "    <tr>\n",
       "      <th>2159</th>\n",
       "      <td>2023-03-31 23:00:00</td>\n",
       "      <td>3/31/2023 23:00</td>\n",
       "      <td>4731.357</td>\n",
       "    </tr>\n",
       "  </tbody>\n",
       "</table>\n",
       "<p>2160 rows × 3 columns</p>\n",
       "</div>"
      ],
      "text/plain": [
       "                datetime datetime_beginning_ept        mw\n",
       "0    2023-01-01 00:00:00          1/1/2023 0:00  4634.392\n",
       "1    2023-01-01 01:00:00          1/1/2023 1:00  4534.132\n",
       "2    2023-01-01 02:00:00          1/1/2023 2:00  4465.419\n",
       "3    2023-01-01 03:00:00          1/1/2023 3:00  4446.937\n",
       "4    2023-01-01 04:00:00          1/1/2023 4:00  4477.269\n",
       "...                  ...                    ...       ...\n",
       "2155 2023-03-31 19:00:00        3/31/2023 19:00  5455.426\n",
       "2156 2023-03-31 20:00:00        3/31/2023 20:00  5431.480\n",
       "2157 2023-03-31 21:00:00        3/31/2023 21:00  5252.801\n",
       "2158 2023-03-31 22:00:00        3/31/2023 22:00  4959.678\n",
       "2159 2023-03-31 23:00:00        3/31/2023 23:00  4731.357\n",
       "\n",
       "[2160 rows x 3 columns]"
      ]
     },
     "execution_count": 183,
     "metadata": {},
     "output_type": "execute_result"
    }
   ],
   "source": [
    "start_date ='2023-01-01 00:00:00'\n",
    "end_date = '2023-03-31 23:00:00'\n",
    "df_pjm_load_winter = df_pjm_load_cleaned[start_date:end_date]\n",
    "df_pjm_load_winter=df_pjm_load_winter.reset_index()\n",
    "df_pjm_load_winter\n"
   ]
  },
  {
   "cell_type": "code",
   "execution_count": 184,
   "metadata": {},
   "outputs": [
    {
     "data": {
      "text/plain": [
       "<AxesSubplot:xlabel='Date time', ylabel='Load (MW)'>"
      ]
     },
     "execution_count": 184,
     "metadata": {},
     "output_type": "execute_result"
    },
    {
     "data": {
      "image/png": "[encoded data removed]",
      "text/plain": [
       "<Figure size 432x288 with 1 Axes>"
      ]
     },
     "metadata": {
      "needs_background": "light"
     },
     "output_type": "display_data"
    }
   ],
   "source": [
    "df_pjm_load_winter.plot(x='datetime', y='mw', xlabel='Date time', ylabel='Load (MW)' )"
   ]
  },
  {
   "cell_type": "code",
   "execution_count": 185,
   "metadata": {},
   "outputs": [
    {
     "data": {
      "text/html": [
       "<div>\n",
       "<style scoped>\n",
       "    .dataframe tbody tr th:only-of-type {\n",
       "        vertical-align: middle;\n",
       "    }\n",
       "\n",
       "    .dataframe tbody tr th {\n",
       "        vertical-align: top;\n",
       "    }\n",
       "\n",
       "    .dataframe thead th {\n",
       "        text-align: right;\n",
       "    }\n",
       "</style>\n",
       "<table border=\"1\" class=\"dataframe\">\n",
       "  <thead>\n",
       "    <tr style=\"text-align: right;\">\n",
       "      <th></th>\n",
       "      <th>datetime</th>\n",
       "      <th>datetime_beginning_ept</th>\n",
       "      <th>mw</th>\n",
       "    </tr>\n",
       "  </thead>\n",
       "  <tbody>\n",
       "    <tr>\n",
       "      <th>0</th>\n",
       "      <td>2023-04-01 00:00:00</td>\n",
       "      <td>4/1/2023 0:00</td>\n",
       "      <td>4535.860</td>\n",
       "    </tr>\n",
       "    <tr>\n",
       "      <th>1</th>\n",
       "      <td>2023-04-01 01:00:00</td>\n",
       "      <td>4/1/2023 1:00</td>\n",
       "      <td>4329.427</td>\n",
       "    </tr>\n",
       "    <tr>\n",
       "      <th>2</th>\n",
       "      <td>2023-04-01 02:00:00</td>\n",
       "      <td>4/1/2023 2:00</td>\n",
       "      <td>4228.328</td>\n",
       "    </tr>\n",
       "    <tr>\n",
       "      <th>3</th>\n",
       "      <td>2023-04-01 03:00:00</td>\n",
       "      <td>4/1/2023 3:00</td>\n",
       "      <td>4178.324</td>\n",
       "    </tr>\n",
       "    <tr>\n",
       "      <th>4</th>\n",
       "      <td>2023-04-01 04:00:00</td>\n",
       "      <td>4/1/2023 4:00</td>\n",
       "      <td>4209.014</td>\n",
       "    </tr>\n",
       "    <tr>\n",
       "      <th>...</th>\n",
       "      <td>...</td>\n",
       "      <td>...</td>\n",
       "      <td>...</td>\n",
       "    </tr>\n",
       "    <tr>\n",
       "      <th>2179</th>\n",
       "      <td>2023-06-30 19:00:00</td>\n",
       "      <td>6/30/2023 19:00</td>\n",
       "      <td>6317.317</td>\n",
       "    </tr>\n",
       "    <tr>\n",
       "      <th>2180</th>\n",
       "      <td>2023-06-30 20:00:00</td>\n",
       "      <td>6/30/2023 20:00</td>\n",
       "      <td>6120.336</td>\n",
       "    </tr>\n",
       "    <tr>\n",
       "      <th>2181</th>\n",
       "      <td>2023-06-30 21:00:00</td>\n",
       "      <td>6/30/2023 21:00</td>\n",
       "      <td>5937.785</td>\n",
       "    </tr>\n",
       "    <tr>\n",
       "      <th>2182</th>\n",
       "      <td>2023-06-30 22:00:00</td>\n",
       "      <td>6/30/2023 22:00</td>\n",
       "      <td>5560.487</td>\n",
       "    </tr>\n",
       "    <tr>\n",
       "      <th>2183</th>\n",
       "      <td>2023-06-30 23:00:00</td>\n",
       "      <td>6/30/2023 23:00</td>\n",
       "      <td>5173.838</td>\n",
       "    </tr>\n",
       "  </tbody>\n",
       "</table>\n",
       "<p>2184 rows × 3 columns</p>\n",
       "</div>"
      ],
      "text/plain": [
       "                datetime datetime_beginning_ept        mw\n",
       "0    2023-04-01 00:00:00          4/1/2023 0:00  4535.860\n",
       "1    2023-04-01 01:00:00          4/1/2023 1:00  4329.427\n",
       "2    2023-04-01 02:00:00          4/1/2023 2:00  4228.328\n",
       "3    2023-04-01 03:00:00          4/1/2023 3:00  4178.324\n",
       "4    2023-04-01 04:00:00          4/1/2023 4:00  4209.014\n",
       "...                  ...                    ...       ...\n",
       "2179 2023-06-30 19:00:00        6/30/2023 19:00  6317.317\n",
       "2180 2023-06-30 20:00:00        6/30/2023 20:00  6120.336\n",
       "2181 2023-06-30 21:00:00        6/30/2023 21:00  5937.785\n",
       "2182 2023-06-30 22:00:00        6/30/2023 22:00  5560.487\n",
       "2183 2023-06-30 23:00:00        6/30/2023 23:00  5173.838\n",
       "\n",
       "[2184 rows x 3 columns]"
      ]
     },
     "execution_count": 185,
     "metadata": {},
     "output_type": "execute_result"
    }
   ],
   "source": [
    "start_date ='2023-04-01 00:00:00'\n",
    "end_date = '2023-06-30 23:00:00'\n",
    "df_pjm_load_spring = df_pjm_load_cleaned[start_date:end_date]\n",
    "df_pjm_load_spring=df_pjm_load_spring.reset_index()\n",
    "df_pjm_load_spring\n"
   ]
  },
  {
   "cell_type": "code",
   "execution_count": 186,
   "metadata": {},
   "outputs": [
    {
     "data": {
      "text/plain": [
       "<AxesSubplot:xlabel='Date time', ylabel='Load (MW)'>"
      ]
     },
     "execution_count": 186,
     "metadata": {},
     "output_type": "execute_result"
    },
    {
     "data": {
      "image/png": "[encoded data removed]",
      "text/plain": [
       "<Figure size 432x288 with 1 Axes>"
      ]
     },
     "metadata": {
      "needs_background": "light"
     },
     "output_type": "display_data"
    }
   ],
   "source": [
    "df_pjm_load_spring.plot(x='datetime', y='mw', xlabel='Date time', ylabel='Load (MW)' )"
   ]
  },
  {
   "cell_type": "code",
   "execution_count": 192,
   "metadata": {},
   "outputs": [
    {
     "data": {
      "text/html": [
       "<div>\n",
       "<style scoped>\n",
       "    .dataframe tbody tr th:only-of-type {\n",
       "        vertical-align: middle;\n",
       "    }\n",
       "\n",
       "    .dataframe tbody tr th {\n",
       "        vertical-align: top;\n",
       "    }\n",
       "\n",
       "    .dataframe thead th {\n",
       "        text-align: right;\n",
       "    }\n",
       "</style>\n",
       "<table border=\"1\" class=\"dataframe\">\n",
       "  <thead>\n",
       "    <tr style=\"text-align: right;\">\n",
       "      <th></th>\n",
       "      <th>datetime</th>\n",
       "      <th>datetime_beginning_ept</th>\n",
       "      <th>mw</th>\n",
       "    </tr>\n",
       "  </thead>\n",
       "  <tbody>\n",
       "    <tr>\n",
       "      <th>0</th>\n",
       "      <td>2023-07-01 00:00:00</td>\n",
       "      <td>7/1/2023 0:00</td>\n",
       "      <td>4792.761</td>\n",
       "    </tr>\n",
       "    <tr>\n",
       "      <th>1</th>\n",
       "      <td>2023-07-01 01:00:00</td>\n",
       "      <td>7/1/2023 1:00</td>\n",
       "      <td>4592.205</td>\n",
       "    </tr>\n",
       "    <tr>\n",
       "      <th>2</th>\n",
       "      <td>2023-07-01 02:00:00</td>\n",
       "      <td>7/1/2023 2:00</td>\n",
       "      <td>4401.926</td>\n",
       "    </tr>\n",
       "    <tr>\n",
       "      <th>3</th>\n",
       "      <td>2023-07-01 03:00:00</td>\n",
       "      <td>7/1/2023 3:00</td>\n",
       "      <td>4292.638</td>\n",
       "    </tr>\n",
       "    <tr>\n",
       "      <th>4</th>\n",
       "      <td>2023-07-01 04:00:00</td>\n",
       "      <td>7/1/2023 4:00</td>\n",
       "      <td>4275.415</td>\n",
       "    </tr>\n",
       "    <tr>\n",
       "      <th>...</th>\n",
       "      <td>...</td>\n",
       "      <td>...</td>\n",
       "      <td>...</td>\n",
       "    </tr>\n",
       "    <tr>\n",
       "      <th>2203</th>\n",
       "      <td>2023-09-30 19:00:00</td>\n",
       "      <td>9/30/2023 19:00</td>\n",
       "      <td>5130.454</td>\n",
       "    </tr>\n",
       "    <tr>\n",
       "      <th>2204</th>\n",
       "      <td>2023-09-30 20:00:00</td>\n",
       "      <td>9/30/2023 20:00</td>\n",
       "      <td>4999.212</td>\n",
       "    </tr>\n",
       "    <tr>\n",
       "      <th>2205</th>\n",
       "      <td>2023-09-30 21:00:00</td>\n",
       "      <td>9/30/2023 21:00</td>\n",
       "      <td>4786.570</td>\n",
       "    </tr>\n",
       "    <tr>\n",
       "      <th>2206</th>\n",
       "      <td>2023-09-30 22:00:00</td>\n",
       "      <td>9/30/2023 22:00</td>\n",
       "      <td>4520.885</td>\n",
       "    </tr>\n",
       "    <tr>\n",
       "      <th>2207</th>\n",
       "      <td>2023-09-30 23:00:00</td>\n",
       "      <td>9/30/2023 23:00</td>\n",
       "      <td>4252.884</td>\n",
       "    </tr>\n",
       "  </tbody>\n",
       "</table>\n",
       "<p>2208 rows × 3 columns</p>\n",
       "</div>"
      ],
      "text/plain": [
       "                datetime datetime_beginning_ept        mw\n",
       "0    2023-07-01 00:00:00          7/1/2023 0:00  4792.761\n",
       "1    2023-07-01 01:00:00          7/1/2023 1:00  4592.205\n",
       "2    2023-07-01 02:00:00          7/1/2023 2:00  4401.926\n",
       "3    2023-07-01 03:00:00          7/1/2023 3:00  4292.638\n",
       "4    2023-07-01 04:00:00          7/1/2023 4:00  4275.415\n",
       "...                  ...                    ...       ...\n",
       "2203 2023-09-30 19:00:00        9/30/2023 19:00  5130.454\n",
       "2204 2023-09-30 20:00:00        9/30/2023 20:00  4999.212\n",
       "2205 2023-09-30 21:00:00        9/30/2023 21:00  4786.570\n",
       "2206 2023-09-30 22:00:00        9/30/2023 22:00  4520.885\n",
       "2207 2023-09-30 23:00:00        9/30/2023 23:00  4252.884\n",
       "\n",
       "[2208 rows x 3 columns]"
      ]
     },
     "execution_count": 192,
     "metadata": {},
     "output_type": "execute_result"
    }
   ],
   "source": [
    "start_date ='2023-07-01 00:00:00'\n",
    "end_date = '2023-09-30 23:00:00'\n",
    "df_pjm_load_summer = df_pjm_load_cleaned[start_date:end_date]\n",
    "df_pjm_load_summer=df_pjm_load_summer.reset_index()\n",
    "df_pjm_load_summer\n"
   ]
  },
  {
   "cell_type": "code",
   "execution_count": 193,
   "metadata": {},
   "outputs": [
    {
     "data": {
      "text/plain": [
       "<AxesSubplot:xlabel='Date time', ylabel='Load (MW)'>"
      ]
     },
     "execution_count": 193,
     "metadata": {},
     "output_type": "execute_result"
    },
    {
     "data": {
      "image/png": "[encoded data removed]",
      "text/plain": [
       "<Figure size 432x288 with 1 Axes>"
      ]
     },
     "metadata": {
      "needs_background": "light"
     },
     "output_type": "display_data"
    }
   ],
   "source": [
    "df_pjm_load_summer.plot(x='datetime', y='mw', xlabel='Date time', ylabel='Load (MW)' )"
   ]
  },
  {
   "cell_type": "code",
   "execution_count": 194,
   "metadata": {},
   "outputs": [
    {
     "data": {
      "text/html": [
       "<div>\n",
       "<style scoped>\n",
       "    .dataframe tbody tr th:only-of-type {\n",
       "        vertical-align: middle;\n",
       "    }\n",
       "\n",
       "    .dataframe tbody tr th {\n",
       "        vertical-align: top;\n",
       "    }\n",
       "\n",
       "    .dataframe thead th {\n",
       "        text-align: right;\n",
       "    }\n",
       "</style>\n",
       "<table border=\"1\" class=\"dataframe\">\n",
       "  <thead>\n",
       "    <tr style=\"text-align: right;\">\n",
       "      <th></th>\n",
       "      <th>datetime</th>\n",
       "      <th>datetime_beginning_ept</th>\n",
       "      <th>mw</th>\n",
       "    </tr>\n",
       "  </thead>\n",
       "  <tbody>\n",
       "    <tr>\n",
       "      <th>0</th>\n",
       "      <td>2023-10-01 00:00:00</td>\n",
       "      <td>10/1/2023 0:00</td>\n",
       "      <td>4042.513</td>\n",
       "    </tr>\n",
       "    <tr>\n",
       "      <th>1</th>\n",
       "      <td>2023-10-01 01:00:00</td>\n",
       "      <td>10/1/2023 1:00</td>\n",
       "      <td>3850.067</td>\n",
       "    </tr>\n",
       "    <tr>\n",
       "      <th>2</th>\n",
       "      <td>2023-10-01 02:00:00</td>\n",
       "      <td>10/1/2023 2:00</td>\n",
       "      <td>3734.200</td>\n",
       "    </tr>\n",
       "    <tr>\n",
       "      <th>3</th>\n",
       "      <td>2023-10-01 03:00:00</td>\n",
       "      <td>10/1/2023 3:00</td>\n",
       "      <td>3687.402</td>\n",
       "    </tr>\n",
       "    <tr>\n",
       "      <th>4</th>\n",
       "      <td>2023-10-01 04:00:00</td>\n",
       "      <td>10/1/2023 4:00</td>\n",
       "      <td>3679.819</td>\n",
       "    </tr>\n",
       "    <tr>\n",
       "      <th>...</th>\n",
       "      <td>...</td>\n",
       "      <td>...</td>\n",
       "      <td>...</td>\n",
       "    </tr>\n",
       "    <tr>\n",
       "      <th>2203</th>\n",
       "      <td>2023-12-31 19:00:00</td>\n",
       "      <td>12/31/2023 19:00</td>\n",
       "      <td>5896.602</td>\n",
       "    </tr>\n",
       "    <tr>\n",
       "      <th>2204</th>\n",
       "      <td>2023-12-31 20:00:00</td>\n",
       "      <td>12/31/2023 20:00</td>\n",
       "      <td>5758.356</td>\n",
       "    </tr>\n",
       "    <tr>\n",
       "      <th>2205</th>\n",
       "      <td>2023-12-31 21:00:00</td>\n",
       "      <td>12/31/2023 21:00</td>\n",
       "      <td>5610.514</td>\n",
       "    </tr>\n",
       "    <tr>\n",
       "      <th>2206</th>\n",
       "      <td>2023-12-31 22:00:00</td>\n",
       "      <td>12/31/2023 22:00</td>\n",
       "      <td>5467.885</td>\n",
       "    </tr>\n",
       "    <tr>\n",
       "      <th>2207</th>\n",
       "      <td>2023-12-31 23:00:00</td>\n",
       "      <td>12/31/2023 23:00</td>\n",
       "      <td>5345.135</td>\n",
       "    </tr>\n",
       "  </tbody>\n",
       "</table>\n",
       "<p>2208 rows × 3 columns</p>\n",
       "</div>"
      ],
      "text/plain": [
       "                datetime datetime_beginning_ept        mw\n",
       "0    2023-10-01 00:00:00         10/1/2023 0:00  4042.513\n",
       "1    2023-10-01 01:00:00         10/1/2023 1:00  3850.067\n",
       "2    2023-10-01 02:00:00         10/1/2023 2:00  3734.200\n",
       "3    2023-10-01 03:00:00         10/1/2023 3:00  3687.402\n",
       "4    2023-10-01 04:00:00         10/1/2023 4:00  3679.819\n",
       "...                  ...                    ...       ...\n",
       "2203 2023-12-31 19:00:00       12/31/2023 19:00  5896.602\n",
       "2204 2023-12-31 20:00:00       12/31/2023 20:00  5758.356\n",
       "2205 2023-12-31 21:00:00       12/31/2023 21:00  5610.514\n",
       "2206 2023-12-31 22:00:00       12/31/2023 22:00  5467.885\n",
       "2207 2023-12-31 23:00:00       12/31/2023 23:00  5345.135\n",
       "\n",
       "[2208 rows x 3 columns]"
      ]
     },
     "execution_count": 194,
     "metadata": {},
     "output_type": "execute_result"
    }
   ],
   "source": [
    "start_date ='2023-10-01 00:00:00'\n",
    "end_date = '2023-12-31 23:00:00'\n",
    "df_pjm_load_fall = df_pjm_load_cleaned[start_date:end_date]\n",
    "df_pjm_load_fall=df_pjm_load_fall.reset_index()\n",
    "df_pjm_load_fall\n"
   ]
  },
  {
   "cell_type": "code",
   "execution_count": 195,
   "metadata": {},
   "outputs": [
    {
     "data": {
      "text/plain": [
       "<AxesSubplot:xlabel='Date time', ylabel='Load (MW)'>"
      ]
     },
     "execution_count": 195,
     "metadata": {},
     "output_type": "execute_result"
    },
    {
     "data": {
      "image/png": "[encoded data removed]",
      "text/plain": [
       "<Figure size 432x288 with 1 Axes>"
      ]
     },
     "metadata": {
      "needs_background": "light"
     },
     "output_type": "display_data"
    }
   ],
   "source": [
    "df_pjm_load_fall.plot(x='datetime', y='mw', xlabel='Date time', ylabel='Load (MW)' )"
   ]
  },
  {
   "cell_type": "markdown",
   "metadata": {
    "collapsed": true
   },
   "source": [
    "## Visualization\n",
    "\n",
    "Load patterns for each season were visualized above using line plots, showing the variation in load over time. The plots highlight differences in load behavior between seasons.Winter: The load tends to be higher during peak hours compared to other seasons, likely due to increased heating demand. Spring: Load shows more fluctuation compared to winter, indicating a transition period with varying energy demands. Summer: Load peaks during the afternoon and early evening, likely due to increased air conditioning usage. Fall: Load patterns resemble spring but with slightly lower overall demand as temperatures begin to decrease."
   ]
  },
  {
   "cell_type": "markdown",
   "metadata": {
    "collapsed": true
   },
   "source": [
    "## Feature Engineering and Modeling"
   ]
  },
  {
   "cell_type": "markdown",
   "metadata": {
    "collapsed": true
   },
   "source": [
    "Here my aim is to buit machine learning based predictive model(Random Forest) to generate day-ahead forecast values.For that i used RANDOM FOREST.\n",
    "Random Forest Regression\n",
    "\n",
    "Random Forest is a popular machine learning algorithm that belongs to the supervised learning technique.Random Forest Regression is like having a bunch of smart trees in a forest, each giving its own opinion. By combining their opinions, we get a more reliable prediction. It's a powerful tool in machine learning, especially useful for beginners due to its simplicity and effectiveness in many situations.\n",
    "\n",
    "Why Use Random Forest?\n",
    "\n",
    "Good for Many Situations: Random Forest can handle both regression and classification tasks. It's versatile and can work well with various types of data.\n",
    "Handles Complex Relationships: It's robust to outliers and works well even with non-linear relationships between features and the target variable.\n",
    "Less Prone to Overfitting: Because it combines the predictions of multiple trees, it's less likely to overfit the training data compared to a single decision tree.\n",
    "\n",
    "When to Use Random Forest?\n",
    "\n",
    "Large Datasets: It's effective with large datasets with many features.\n",
    "No Need for Feature Scaling: Random Forest doesn't require scaling of features, making it easier to use with different types of data.\n",
    "Interpretability: While each tree might be hard to interpret individually, Random Forest can still provide insights into feature importance.\n",
    "\n",
    "TASKS: Creating the function feature_addition for preparing the PJM hourly load data for predictive modeling tasks by incorporating relevant time-based and date-based features, which can potentially improve the accuracy of electricity demand forecasts."
   ]
  },
  {
   "cell_type": "code",
   "execution_count": 174,
   "metadata": {
    "collapsed": true
   },
   "outputs": [],
   "source": [
    "def feature_addition(df_pjm_data_season):\n",
    "    \n",
    "    dataframe = pd.DataFrame()\n",
    "    # Adding the time lags\n",
    "    for i in range(24, 20, -1):\n",
    "       dataframe['t-' + str(i)] = df_pjm_data_season.mw.shift(i)\n",
    "    final_data = pd.concat([df_pjm_data_season, dataframe], axis=1)\n",
    "    final_data.dropna(inplace=True)\n",
    "    \n",
    "    # Adding the date time features\n",
    "    final_data['hour'] = final_data['datetime'].dt.hour\n",
    "    final_data['date'] = final_data['datetime'].dt.day\n",
    "    final_data['month'] = final_data['datetime'].dt.month\n",
    "    return final_data"
   ]
  },
  {
   "cell_type": "markdown",
   "metadata": {},
   "source": [
    "Creating the function train_test, is used to split the dataset into training and testing sets for machine learning model evaluation. This function should do following tasks\n",
    "\n",
    "1. Remove DateTime Columns: The function first removes the columns 'datetime' and 'datetime_beginning_ept' from the dataset as they are not used as features for modeling. This is done using the drop method.\n",
    "\n",
    "2. Calculate Test Length: The length of the test set is calculated based on the number of days (31) multiplied by the number of hours in a day (24).\n",
    "\n",
    "3. Split Training and Testing Data: The dataset is split into training and testing sets. The training set consists of data up to the index x - 1, and the testing set consists of data from index x onwards.\n",
    "\n",
    "4. Separate Features and Target Variable: For both the training and testing sets, the features (all columns except 'mw') and the target variable ('mw') are separated into different variables (finaldf_train_x, finaldf_train_y, finaldf_test_x, finaldf_test_y). This separation is necessary for training and evaluating machine learning models."
   ]
  },
  {
   "cell_type": "code",
   "execution_count": null,
   "metadata": {
    "collapsed": true
   },
   "outputs": [],
   "source": [
    "def train_test(final_data):\n",
    "    finaldf = final_data.drop([ 'datetime','datetime_beginning_ept'], axis=1)\n",
    "    finaldf = finaldf.reset_index(drop=True)\n",
    "    # test length\n",
    "    test_length= 31*24\n",
    "    end_point = len(finaldf)\n",
    "    \n",
    "    x = end_point - test_length\n",
    "    # Training data\n",
    "    finaldf_train = finaldf.loc[:x - 1, :]\n",
    "    finaldf_train_x = finaldf_train.loc[:, finaldf_train.columns != 'mw']\n",
    "    finaldf_train_y = finaldf_train['mw']  \n",
    "    # Testing data\n",
    "    finaldf_test = finaldf.loc[x:, :]\n",
    "    finaldf_test_x = finaldf_test.loc[:, finaldf_test.columns != 'mw']\n",
    "    finaldf_test_y = finaldf_test['mw']\n",
    "    return finaldf_train_x, finaldf_train_y, finaldf_test_x, finaldf_test_y"
   ]
  },
  {
   "cell_type": "markdown",
   "metadata": {},
   "source": [
    "Creating the function, model_training, is used to train a Random Forest model with feature selection using Recursive Feature Elimination (RFE).This function should do following tasks\n",
    "\n",
    "1. Print Status Message: The function starts by printing a message indicating that the model training process is beginning.\n",
    "\n",
    "2. Define Estimator: An estimator is defined for the Random Forest model using RandomForestRegressor. In this case, n_estimators=100 indicates that 100 decision trees will be built in the Random Forest ensemble. random_state=1 ensures reproducibility by fixing the random seed.\n",
    "\n",
    "3. Initialize RFE: Recursive Feature Elimination (RFE) is initialized with the previously defined estimator (estimator) and the number of features to select (n_features_to_select=4). RFE works by recursively removing features, training the model, and selecting the best features based on their importance.\n",
    "\n",
    "4. Fit RFE: The RFE selector (rfe) is fitted to the training data (finaldf_train_x, finaldf_train_y). This step identifies the optimal subset of features for modeling.\n",
    "\n",
    "5. Print Completion Message: Finally, a message is printed indicating that the model training process has finished.\n",
    "\n",
    "6. The function returns the fitted RFE object (fit). This object contains information about the selected features and can be used for further analysis or model evaluation."
   ]
  },
  {
   "cell_type": "code",
   "execution_count": null,
   "metadata": {
    "collapsed": true
   },
   "outputs": [],
   "source": [
    "def model_training(finaldf_train_x, finaldf_train_y):\n",
    "    print(\"Starting model train..\")\n",
    "    # Define the estimator (RandomForestRegressor with n_estimators=100)\n",
    "    estimator = RandomForestRegressor(n_estimators=100, random_state=1)\n",
    "\n",
    "    # Initialize RFE with the estimator and the number of features to select (4 in your case)\n",
    "    rfe = RFE(estimator, n_features_to_select=4)\n",
    "\n",
    "    fit = rfe.fit(finaldf_train_x, finaldf_train_y)\n",
    "    print(\"Finished model train..\")\n",
    "    return fit"
   ]
  },
  {
   "cell_type": "markdown",
   "metadata": {},
   "source": [
    "## Model Evaluation\n",
    "\n",
    "NOW using the above 3 functions we can call these function into 4 different seasons datasets which we have already creted earlier in this notebook.Model performance can be evaluated using Mean Absolute Percentage Error (MAPE) and overall accuracy. MAPE and accuracy metrics provide insights into the model's predictive capability.Below cells do these tasks.\n"
   ]
  },
  {
   "cell_type": "code",
   "execution_count": 175,
   "metadata": {},
   "outputs": [
    {
     "data": {
      "text/html": [
       "<div>\n",
       "<style scoped>\n",
       "    .dataframe tbody tr th:only-of-type {\n",
       "        vertical-align: middle;\n",
       "    }\n",
       "\n",
       "    .dataframe tbody tr th {\n",
       "        vertical-align: top;\n",
       "    }\n",
       "\n",
       "    .dataframe thead th {\n",
       "        text-align: right;\n",
       "    }\n",
       "</style>\n",
       "<table border=\"1\" class=\"dataframe\">\n",
       "  <thead>\n",
       "    <tr style=\"text-align: right;\">\n",
       "      <th></th>\n",
       "      <th>datetime</th>\n",
       "      <th>datetime_beginning_ept</th>\n",
       "      <th>mw</th>\n",
       "      <th>t-24</th>\n",
       "      <th>t-23</th>\n",
       "      <th>t-22</th>\n",
       "      <th>t-21</th>\n",
       "      <th>hour</th>\n",
       "      <th>date</th>\n",
       "      <th>month</th>\n",
       "    </tr>\n",
       "  </thead>\n",
       "  <tbody>\n",
       "    <tr>\n",
       "      <th>24</th>\n",
       "      <td>2023-01-02 00:00:00</td>\n",
       "      <td>1/2/2023 0:00</td>\n",
       "      <td>4529.851</td>\n",
       "      <td>4634.392</td>\n",
       "      <td>4534.132</td>\n",
       "      <td>4465.419</td>\n",
       "      <td>4446.937</td>\n",
       "      <td>0</td>\n",
       "      <td>2</td>\n",
       "      <td>1</td>\n",
       "    </tr>\n",
       "    <tr>\n",
       "      <th>25</th>\n",
       "      <td>2023-01-02 01:00:00</td>\n",
       "      <td>1/2/2023 1:00</td>\n",
       "      <td>4453.910</td>\n",
       "      <td>4534.132</td>\n",
       "      <td>4465.419</td>\n",
       "      <td>4446.937</td>\n",
       "      <td>4477.269</td>\n",
       "      <td>1</td>\n",
       "      <td>2</td>\n",
       "      <td>1</td>\n",
       "    </tr>\n",
       "    <tr>\n",
       "      <th>26</th>\n",
       "      <td>2023-01-02 02:00:00</td>\n",
       "      <td>1/2/2023 2:00</td>\n",
       "      <td>4412.057</td>\n",
       "      <td>4465.419</td>\n",
       "      <td>4446.937</td>\n",
       "      <td>4477.269</td>\n",
       "      <td>4566.720</td>\n",
       "      <td>2</td>\n",
       "      <td>2</td>\n",
       "      <td>1</td>\n",
       "    </tr>\n",
       "    <tr>\n",
       "      <th>27</th>\n",
       "      <td>2023-01-02 03:00:00</td>\n",
       "      <td>1/2/2023 3:00</td>\n",
       "      <td>4416.282</td>\n",
       "      <td>4446.937</td>\n",
       "      <td>4477.269</td>\n",
       "      <td>4566.720</td>\n",
       "      <td>4712.355</td>\n",
       "      <td>3</td>\n",
       "      <td>2</td>\n",
       "      <td>1</td>\n",
       "    </tr>\n",
       "    <tr>\n",
       "      <th>28</th>\n",
       "      <td>2023-01-02 04:00:00</td>\n",
       "      <td>1/2/2023 4:00</td>\n",
       "      <td>4473.408</td>\n",
       "      <td>4477.269</td>\n",
       "      <td>4566.720</td>\n",
       "      <td>4712.355</td>\n",
       "      <td>4874.351</td>\n",
       "      <td>4</td>\n",
       "      <td>2</td>\n",
       "      <td>1</td>\n",
       "    </tr>\n",
       "    <tr>\n",
       "      <th>...</th>\n",
       "      <td>...</td>\n",
       "      <td>...</td>\n",
       "      <td>...</td>\n",
       "      <td>...</td>\n",
       "      <td>...</td>\n",
       "      <td>...</td>\n",
       "      <td>...</td>\n",
       "      <td>...</td>\n",
       "      <td>...</td>\n",
       "      <td>...</td>\n",
       "    </tr>\n",
       "    <tr>\n",
       "      <th>2155</th>\n",
       "      <td>2023-03-31 19:00:00</td>\n",
       "      <td>3/31/2023 19:00</td>\n",
       "      <td>5455.426</td>\n",
       "      <td>5333.196</td>\n",
       "      <td>5565.092</td>\n",
       "      <td>5488.163</td>\n",
       "      <td>5319.538</td>\n",
       "      <td>19</td>\n",
       "      <td>31</td>\n",
       "      <td>3</td>\n",
       "    </tr>\n",
       "    <tr>\n",
       "      <th>2156</th>\n",
       "      <td>2023-03-31 20:00:00</td>\n",
       "      <td>3/31/2023 20:00</td>\n",
       "      <td>5431.480</td>\n",
       "      <td>5565.092</td>\n",
       "      <td>5488.163</td>\n",
       "      <td>5319.538</td>\n",
       "      <td>5146.963</td>\n",
       "      <td>20</td>\n",
       "      <td>31</td>\n",
       "      <td>3</td>\n",
       "    </tr>\n",
       "    <tr>\n",
       "      <th>2157</th>\n",
       "      <td>2023-03-31 21:00:00</td>\n",
       "      <td>3/31/2023 21:00</td>\n",
       "      <td>5252.801</td>\n",
       "      <td>5488.163</td>\n",
       "      <td>5319.538</td>\n",
       "      <td>5146.963</td>\n",
       "      <td>5031.540</td>\n",
       "      <td>21</td>\n",
       "      <td>31</td>\n",
       "      <td>3</td>\n",
       "    </tr>\n",
       "    <tr>\n",
       "      <th>2158</th>\n",
       "      <td>2023-03-31 22:00:00</td>\n",
       "      <td>3/31/2023 22:00</td>\n",
       "      <td>4959.678</td>\n",
       "      <td>5319.538</td>\n",
       "      <td>5146.963</td>\n",
       "      <td>5031.540</td>\n",
       "      <td>5000.176</td>\n",
       "      <td>22</td>\n",
       "      <td>31</td>\n",
       "      <td>3</td>\n",
       "    </tr>\n",
       "    <tr>\n",
       "      <th>2159</th>\n",
       "      <td>2023-03-31 23:00:00</td>\n",
       "      <td>3/31/2023 23:00</td>\n",
       "      <td>4731.357</td>\n",
       "      <td>5146.963</td>\n",
       "      <td>5031.540</td>\n",
       "      <td>5000.176</td>\n",
       "      <td>4992.085</td>\n",
       "      <td>23</td>\n",
       "      <td>31</td>\n",
       "      <td>3</td>\n",
       "    </tr>\n",
       "  </tbody>\n",
       "</table>\n",
       "<p>2136 rows × 10 columns</p>\n",
       "</div>"
      ],
      "text/plain": [
       "                datetime datetime_beginning_ept        mw      t-24      t-23  \\\n",
       "24   2023-01-02 00:00:00          1/2/2023 0:00  4529.851  4634.392  4534.132   \n",
       "25   2023-01-02 01:00:00          1/2/2023 1:00  4453.910  4534.132  4465.419   \n",
       "26   2023-01-02 02:00:00          1/2/2023 2:00  4412.057  4465.419  4446.937   \n",
       "27   2023-01-02 03:00:00          1/2/2023 3:00  4416.282  4446.937  4477.269   \n",
       "28   2023-01-02 04:00:00          1/2/2023 4:00  4473.408  4477.269  4566.720   \n",
       "...                  ...                    ...       ...       ...       ...   \n",
       "2155 2023-03-31 19:00:00        3/31/2023 19:00  5455.426  5333.196  5565.092   \n",
       "2156 2023-03-31 20:00:00        3/31/2023 20:00  5431.480  5565.092  5488.163   \n",
       "2157 2023-03-31 21:00:00        3/31/2023 21:00  5252.801  5488.163  5319.538   \n",
       "2158 2023-03-31 22:00:00        3/31/2023 22:00  4959.678  5319.538  5146.963   \n",
       "2159 2023-03-31 23:00:00        3/31/2023 23:00  4731.357  5146.963  5031.540   \n",
       "\n",
       "          t-22      t-21  hour  date  month  \n",
       "24    4465.419  4446.937     0     2      1  \n",
       "25    4446.937  4477.269     1     2      1  \n",
       "26    4477.269  4566.720     2     2      1  \n",
       "27    4566.720  4712.355     3     2      1  \n",
       "28    4712.355  4874.351     4     2      1  \n",
       "...        ...       ...   ...   ...    ...  \n",
       "2155  5488.163  5319.538    19    31      3  \n",
       "2156  5319.538  5146.963    20    31      3  \n",
       "2157  5146.963  5031.540    21    31      3  \n",
       "2158  5031.540  5000.176    22    31      3  \n",
       "2159  5000.176  4992.085    23    31      3  \n",
       "\n",
       "[2136 rows x 10 columns]"
      ]
     },
     "execution_count": 175,
     "metadata": {},
     "output_type": "execute_result"
    }
   ],
   "source": [
    "final_data = feature_addition(df_pjm_load_winter)\n",
    "final_data"
   ]
  },
  {
   "cell_type": "code",
   "execution_count": 177,
   "metadata": {
    "collapsed": true
   },
   "outputs": [],
   "source": [
    "finaldf_train_x, finaldf_train_y, finaldf_test_x, finaldf_test_y = train_test(final_data)"
   ]
  },
  {
   "cell_type": "code",
   "execution_count": 179,
   "metadata": {},
   "outputs": [
    {
     "name": "stdout",
     "output_type": "stream",
     "text": [
      "Starting model train..\n",
      "Finished model train..\n"
     ]
    }
   ],
   "source": [
    "fit = model_training(finaldf_train_x, finaldf_train_y)\n",
    "y_pred = fit.predict(finaldf_test_x)"
   ]
  },
  {
   "cell_type": "code",
   "execution_count": 180,
   "metadata": {},
   "outputs": [
    {
     "name": "stdout",
     "output_type": "stream",
     "text": [
      "Accuracy: 91.4 %.\n",
      "MAPE: 8.6 %.\n"
     ]
    }
   ],
   "source": [
    "y_true = np.array(finaldf_test['mw'])\n",
    "sumvalue=np.sum(y_true)\n",
    "mape=np.sum(np.abs((y_true - y_pred)))/sumvalue*100\n",
    "accuracy=100-mape\n",
    "print('Accuracy:', round(accuracy,2),'%.')\n",
    "print('MAPE:', round(mape,2),'%.')"
   ]
  },
  {
   "cell_type": "code",
   "execution_count": 181,
   "metadata": {},
   "outputs": [
    {
     "data": {
      "image/png": "[encoded data removed]",
      "text/plain": [
       "<Figure size 432x288 with 1 Axes>"
      ]
     },
     "metadata": {
      "needs_background": "light"
     },
     "output_type": "display_data"
    }
   ],
   "source": [
    "# Plotting true values\n",
    "plt.plot(y_true, label='True values', color='blue')\n",
    "\n",
    "# Plotting predicted values\n",
    "plt.plot(y_pred, label='Predicted values', color='red')\n",
    "\n",
    "# Adding labels and title\n",
    "plt.xlabel('Index')\n",
    "plt.ylabel('Value')\n",
    "plt.title('True vs Predicted Values')\n",
    "\n",
    "# Adding legend\n",
    "plt.legend()\n",
    "\n",
    "# Show plot\n",
    "plt.show()"
   ]
  },
  {
   "cell_type": "code",
   "execution_count": 187,
   "metadata": {},
   "outputs": [
    {
     "data": {
      "text/html": [
       "<div>\n",
       "<style scoped>\n",
       "    .dataframe tbody tr th:only-of-type {\n",
       "        vertical-align: middle;\n",
       "    }\n",
       "\n",
       "    .dataframe tbody tr th {\n",
       "        vertical-align: top;\n",
       "    }\n",
       "\n",
       "    .dataframe thead th {\n",
       "        text-align: right;\n",
       "    }\n",
       "</style>\n",
       "<table border=\"1\" class=\"dataframe\">\n",
       "  <thead>\n",
       "    <tr style=\"text-align: right;\">\n",
       "      <th></th>\n",
       "      <th>datetime</th>\n",
       "      <th>datetime_beginning_ept</th>\n",
       "      <th>mw</th>\n",
       "      <th>t-24</th>\n",
       "      <th>t-23</th>\n",
       "      <th>t-22</th>\n",
       "      <th>t-21</th>\n",
       "      <th>hour</th>\n",
       "      <th>date</th>\n",
       "      <th>month</th>\n",
       "    </tr>\n",
       "  </thead>\n",
       "  <tbody>\n",
       "    <tr>\n",
       "      <th>24</th>\n",
       "      <td>2023-04-02 00:00:00</td>\n",
       "      <td>4/2/2023 0:00</td>\n",
       "      <td>4424.583</td>\n",
       "      <td>4535.860</td>\n",
       "      <td>4329.427</td>\n",
       "      <td>4228.328</td>\n",
       "      <td>4178.324</td>\n",
       "      <td>0</td>\n",
       "      <td>2</td>\n",
       "      <td>4</td>\n",
       "    </tr>\n",
       "    <tr>\n",
       "      <th>25</th>\n",
       "      <td>2023-04-02 01:00:00</td>\n",
       "      <td>4/2/2023 1:00</td>\n",
       "      <td>4374.164</td>\n",
       "      <td>4329.427</td>\n",
       "      <td>4228.328</td>\n",
       "      <td>4178.324</td>\n",
       "      <td>4209.014</td>\n",
       "      <td>1</td>\n",
       "      <td>2</td>\n",
       "      <td>4</td>\n",
       "    </tr>\n",
       "    <tr>\n",
       "      <th>26</th>\n",
       "      <td>2023-04-02 02:00:00</td>\n",
       "      <td>4/2/2023 2:00</td>\n",
       "      <td>4362.282</td>\n",
       "      <td>4228.328</td>\n",
       "      <td>4178.324</td>\n",
       "      <td>4209.014</td>\n",
       "      <td>4256.670</td>\n",
       "      <td>2</td>\n",
       "      <td>2</td>\n",
       "      <td>4</td>\n",
       "    </tr>\n",
       "    <tr>\n",
       "      <th>27</th>\n",
       "      <td>2023-04-02 03:00:00</td>\n",
       "      <td>4/2/2023 3:00</td>\n",
       "      <td>4384.936</td>\n",
       "      <td>4178.324</td>\n",
       "      <td>4209.014</td>\n",
       "      <td>4256.670</td>\n",
       "      <td>4410.003</td>\n",
       "      <td>3</td>\n",
       "      <td>2</td>\n",
       "      <td>4</td>\n",
       "    </tr>\n",
       "    <tr>\n",
       "      <th>28</th>\n",
       "      <td>2023-04-02 04:00:00</td>\n",
       "      <td>4/2/2023 4:00</td>\n",
       "      <td>4442.917</td>\n",
       "      <td>4209.014</td>\n",
       "      <td>4256.670</td>\n",
       "      <td>4410.003</td>\n",
       "      <td>4565.538</td>\n",
       "      <td>4</td>\n",
       "      <td>2</td>\n",
       "      <td>4</td>\n",
       "    </tr>\n",
       "    <tr>\n",
       "      <th>...</th>\n",
       "      <td>...</td>\n",
       "      <td>...</td>\n",
       "      <td>...</td>\n",
       "      <td>...</td>\n",
       "      <td>...</td>\n",
       "      <td>...</td>\n",
       "      <td>...</td>\n",
       "      <td>...</td>\n",
       "      <td>...</td>\n",
       "      <td>...</td>\n",
       "    </tr>\n",
       "    <tr>\n",
       "      <th>2179</th>\n",
       "      <td>2023-06-30 19:00:00</td>\n",
       "      <td>6/30/2023 19:00</td>\n",
       "      <td>6317.317</td>\n",
       "      <td>6493.032</td>\n",
       "      <td>6208.476</td>\n",
       "      <td>6029.529</td>\n",
       "      <td>5561.762</td>\n",
       "      <td>19</td>\n",
       "      <td>30</td>\n",
       "      <td>6</td>\n",
       "    </tr>\n",
       "    <tr>\n",
       "      <th>2180</th>\n",
       "      <td>2023-06-30 20:00:00</td>\n",
       "      <td>6/30/2023 20:00</td>\n",
       "      <td>6120.336</td>\n",
       "      <td>6208.476</td>\n",
       "      <td>6029.529</td>\n",
       "      <td>5561.762</td>\n",
       "      <td>5077.805</td>\n",
       "      <td>20</td>\n",
       "      <td>30</td>\n",
       "      <td>6</td>\n",
       "    </tr>\n",
       "    <tr>\n",
       "      <th>2181</th>\n",
       "      <td>2023-06-30 21:00:00</td>\n",
       "      <td>6/30/2023 21:00</td>\n",
       "      <td>5937.785</td>\n",
       "      <td>6029.529</td>\n",
       "      <td>5561.762</td>\n",
       "      <td>5077.805</td>\n",
       "      <td>4751.480</td>\n",
       "      <td>21</td>\n",
       "      <td>30</td>\n",
       "      <td>6</td>\n",
       "    </tr>\n",
       "    <tr>\n",
       "      <th>2182</th>\n",
       "      <td>2023-06-30 22:00:00</td>\n",
       "      <td>6/30/2023 22:00</td>\n",
       "      <td>5560.487</td>\n",
       "      <td>5561.762</td>\n",
       "      <td>5077.805</td>\n",
       "      <td>4751.480</td>\n",
       "      <td>4492.181</td>\n",
       "      <td>22</td>\n",
       "      <td>30</td>\n",
       "      <td>6</td>\n",
       "    </tr>\n",
       "    <tr>\n",
       "      <th>2183</th>\n",
       "      <td>2023-06-30 23:00:00</td>\n",
       "      <td>6/30/2023 23:00</td>\n",
       "      <td>5173.838</td>\n",
       "      <td>5077.805</td>\n",
       "      <td>4751.480</td>\n",
       "      <td>4492.181</td>\n",
       "      <td>4333.561</td>\n",
       "      <td>23</td>\n",
       "      <td>30</td>\n",
       "      <td>6</td>\n",
       "    </tr>\n",
       "  </tbody>\n",
       "</table>\n",
       "<p>2160 rows × 10 columns</p>\n",
       "</div>"
      ],
      "text/plain": [
       "                datetime datetime_beginning_ept        mw      t-24      t-23  \\\n",
       "24   2023-04-02 00:00:00          4/2/2023 0:00  4424.583  4535.860  4329.427   \n",
       "25   2023-04-02 01:00:00          4/2/2023 1:00  4374.164  4329.427  4228.328   \n",
       "26   2023-04-02 02:00:00          4/2/2023 2:00  4362.282  4228.328  4178.324   \n",
       "27   2023-04-02 03:00:00          4/2/2023 3:00  4384.936  4178.324  4209.014   \n",
       "28   2023-04-02 04:00:00          4/2/2023 4:00  4442.917  4209.014  4256.670   \n",
       "...                  ...                    ...       ...       ...       ...   \n",
       "2179 2023-06-30 19:00:00        6/30/2023 19:00  6317.317  6493.032  6208.476   \n",
       "2180 2023-06-30 20:00:00        6/30/2023 20:00  6120.336  6208.476  6029.529   \n",
       "2181 2023-06-30 21:00:00        6/30/2023 21:00  5937.785  6029.529  5561.762   \n",
       "2182 2023-06-30 22:00:00        6/30/2023 22:00  5560.487  5561.762  5077.805   \n",
       "2183 2023-06-30 23:00:00        6/30/2023 23:00  5173.838  5077.805  4751.480   \n",
       "\n",
       "          t-22      t-21  hour  date  month  \n",
       "24    4228.328  4178.324     0     2      4  \n",
       "25    4178.324  4209.014     1     2      4  \n",
       "26    4209.014  4256.670     2     2      4  \n",
       "27    4256.670  4410.003     3     2      4  \n",
       "28    4410.003  4565.538     4     2      4  \n",
       "...        ...       ...   ...   ...    ...  \n",
       "2179  6029.529  5561.762    19    30      6  \n",
       "2180  5561.762  5077.805    20    30      6  \n",
       "2181  5077.805  4751.480    21    30      6  \n",
       "2182  4751.480  4492.181    22    30      6  \n",
       "2183  4492.181  4333.561    23    30      6  \n",
       "\n",
       "[2160 rows x 10 columns]"
      ]
     },
     "execution_count": 187,
     "metadata": {},
     "output_type": "execute_result"
    }
   ],
   "source": [
    "final_data = feature_addition(df_pjm_load_spring)\n",
    "final_data"
   ]
  },
  {
   "cell_type": "code",
   "execution_count": 188,
   "metadata": {
    "collapsed": true
   },
   "outputs": [],
   "source": [
    "finaldf_train_x, finaldf_train_y, finaldf_test_x, finaldf_test_y = train_test(final_data)"
   ]
  },
  {
   "cell_type": "code",
   "execution_count": 189,
   "metadata": {},
   "outputs": [
    {
     "name": "stdout",
     "output_type": "stream",
     "text": [
      "Starting model train..\n",
      "Finished model train..\n"
     ]
    }
   ],
   "source": [
    "fit = model_training(finaldf_train_x, finaldf_train_y)\n",
    "y_pred = fit.predict(finaldf_test_x)"
   ]
  },
  {
   "cell_type": "code",
   "execution_count": 190,
   "metadata": {},
   "outputs": [
    {
     "name": "stdout",
     "output_type": "stream",
     "text": [
      "Accuracy: 85.26 %.\n",
      "MAPE: 14.74 %.\n"
     ]
    }
   ],
   "source": [
    "y_true = np.array(finaldf_test['mw'])\n",
    "sumvalue=np.sum(y_true)\n",
    "mape=np.sum(np.abs((y_true - y_pred)))/sumvalue*100\n",
    "accuracy=100-mape\n",
    "print('Accuracy:', round(accuracy,2),'%.')\n",
    "print('MAPE:', round(mape,2),'%.')"
   ]
  },
  {
   "cell_type": "code",
   "execution_count": 191,
   "metadata": {},
   "outputs": [
    {
     "data": {
      "image/png": "[encoded data removed]",
      "text/plain": [
       "<Figure size 432x288 with 1 Axes>"
      ]
     },
     "metadata": {
      "needs_background": "light"
     },
     "output_type": "display_data"
    }
   ],
   "source": [
    "# Plotting true values\n",
    "plt.plot(y_true, label='True values', color='blue')\n",
    "\n",
    "# Plotting predicted values\n",
    "plt.plot(y_pred, label='Predicted values', color='red')\n",
    "\n",
    "# Adding labels and title\n",
    "plt.xlabel('Index')\n",
    "plt.ylabel('Value')\n",
    "plt.title('True vs Predicted Values')\n",
    "\n",
    "# Adding legend\n",
    "plt.legend()\n",
    "\n",
    "# Show plot\n",
    "plt.show()"
   ]
  },
  {
   "cell_type": "code",
   "execution_count": 196,
   "metadata": {},
   "outputs": [
    {
     "data": {
      "text/html": [
       "<div>\n",
       "<style scoped>\n",
       "    .dataframe tbody tr th:only-of-type {\n",
       "        vertical-align: middle;\n",
       "    }\n",
       "\n",
       "    .dataframe tbody tr th {\n",
       "        vertical-align: top;\n",
       "    }\n",
       "\n",
       "    .dataframe thead th {\n",
       "        text-align: right;\n",
       "    }\n",
       "</style>\n",
       "<table border=\"1\" class=\"dataframe\">\n",
       "  <thead>\n",
       "    <tr style=\"text-align: right;\">\n",
       "      <th></th>\n",
       "      <th>datetime</th>\n",
       "      <th>datetime_beginning_ept</th>\n",
       "      <th>mw</th>\n",
       "      <th>t-24</th>\n",
       "      <th>t-23</th>\n",
       "      <th>t-22</th>\n",
       "      <th>t-21</th>\n",
       "      <th>hour</th>\n",
       "      <th>date</th>\n",
       "      <th>month</th>\n",
       "    </tr>\n",
       "  </thead>\n",
       "  <tbody>\n",
       "    <tr>\n",
       "      <th>24</th>\n",
       "      <td>2023-07-02 00:00:00</td>\n",
       "      <td>7/2/2023 0:00</td>\n",
       "      <td>4750.644</td>\n",
       "      <td>4792.761</td>\n",
       "      <td>4592.205</td>\n",
       "      <td>4401.926</td>\n",
       "      <td>4292.638</td>\n",
       "      <td>0</td>\n",
       "      <td>2</td>\n",
       "      <td>7</td>\n",
       "    </tr>\n",
       "    <tr>\n",
       "      <th>25</th>\n",
       "      <td>2023-07-02 01:00:00</td>\n",
       "      <td>7/2/2023 1:00</td>\n",
       "      <td>4519.165</td>\n",
       "      <td>4592.205</td>\n",
       "      <td>4401.926</td>\n",
       "      <td>4292.638</td>\n",
       "      <td>4275.415</td>\n",
       "      <td>1</td>\n",
       "      <td>2</td>\n",
       "      <td>7</td>\n",
       "    </tr>\n",
       "    <tr>\n",
       "      <th>26</th>\n",
       "      <td>2023-07-02 02:00:00</td>\n",
       "      <td>7/2/2023 2:00</td>\n",
       "      <td>4342.193</td>\n",
       "      <td>4401.926</td>\n",
       "      <td>4292.638</td>\n",
       "      <td>4275.415</td>\n",
       "      <td>4282.584</td>\n",
       "      <td>2</td>\n",
       "      <td>2</td>\n",
       "      <td>7</td>\n",
       "    </tr>\n",
       "    <tr>\n",
       "      <th>27</th>\n",
       "      <td>2023-07-02 03:00:00</td>\n",
       "      <td>7/2/2023 3:00</td>\n",
       "      <td>4254.019</td>\n",
       "      <td>4292.638</td>\n",
       "      <td>4275.415</td>\n",
       "      <td>4282.584</td>\n",
       "      <td>4340.424</td>\n",
       "      <td>3</td>\n",
       "      <td>2</td>\n",
       "      <td>7</td>\n",
       "    </tr>\n",
       "    <tr>\n",
       "      <th>28</th>\n",
       "      <td>2023-07-02 04:00:00</td>\n",
       "      <td>7/2/2023 4:00</td>\n",
       "      <td>4219.015</td>\n",
       "      <td>4275.415</td>\n",
       "      <td>4282.584</td>\n",
       "      <td>4340.424</td>\n",
       "      <td>4520.048</td>\n",
       "      <td>4</td>\n",
       "      <td>2</td>\n",
       "      <td>7</td>\n",
       "    </tr>\n",
       "    <tr>\n",
       "      <th>...</th>\n",
       "      <td>...</td>\n",
       "      <td>...</td>\n",
       "      <td>...</td>\n",
       "      <td>...</td>\n",
       "      <td>...</td>\n",
       "      <td>...</td>\n",
       "      <td>...</td>\n",
       "      <td>...</td>\n",
       "      <td>...</td>\n",
       "      <td>...</td>\n",
       "    </tr>\n",
       "    <tr>\n",
       "      <th>2203</th>\n",
       "      <td>2023-09-30 19:00:00</td>\n",
       "      <td>9/30/2023 19:00</td>\n",
       "      <td>5130.454</td>\n",
       "      <td>5219.729</td>\n",
       "      <td>5121.413</td>\n",
       "      <td>4912.828</td>\n",
       "      <td>4655.916</td>\n",
       "      <td>19</td>\n",
       "      <td>30</td>\n",
       "      <td>9</td>\n",
       "    </tr>\n",
       "    <tr>\n",
       "      <th>2204</th>\n",
       "      <td>2023-09-30 20:00:00</td>\n",
       "      <td>9/30/2023 20:00</td>\n",
       "      <td>4999.212</td>\n",
       "      <td>5121.413</td>\n",
       "      <td>4912.828</td>\n",
       "      <td>4655.916</td>\n",
       "      <td>4361.132</td>\n",
       "      <td>20</td>\n",
       "      <td>30</td>\n",
       "      <td>9</td>\n",
       "    </tr>\n",
       "    <tr>\n",
       "      <th>2205</th>\n",
       "      <td>2023-09-30 21:00:00</td>\n",
       "      <td>9/30/2023 21:00</td>\n",
       "      <td>4786.570</td>\n",
       "      <td>4912.828</td>\n",
       "      <td>4655.916</td>\n",
       "      <td>4361.132</td>\n",
       "      <td>4133.417</td>\n",
       "      <td>21</td>\n",
       "      <td>30</td>\n",
       "      <td>9</td>\n",
       "    </tr>\n",
       "    <tr>\n",
       "      <th>2206</th>\n",
       "      <td>2023-09-30 22:00:00</td>\n",
       "      <td>9/30/2023 22:00</td>\n",
       "      <td>4520.885</td>\n",
       "      <td>4655.916</td>\n",
       "      <td>4361.132</td>\n",
       "      <td>4133.417</td>\n",
       "      <td>3996.115</td>\n",
       "      <td>22</td>\n",
       "      <td>30</td>\n",
       "      <td>9</td>\n",
       "    </tr>\n",
       "    <tr>\n",
       "      <th>2207</th>\n",
       "      <td>2023-09-30 23:00:00</td>\n",
       "      <td>9/30/2023 23:00</td>\n",
       "      <td>4252.884</td>\n",
       "      <td>4361.132</td>\n",
       "      <td>4133.417</td>\n",
       "      <td>3996.115</td>\n",
       "      <td>3893.848</td>\n",
       "      <td>23</td>\n",
       "      <td>30</td>\n",
       "      <td>9</td>\n",
       "    </tr>\n",
       "  </tbody>\n",
       "</table>\n",
       "<p>2184 rows × 10 columns</p>\n",
       "</div>"
      ],
      "text/plain": [
       "                datetime datetime_beginning_ept        mw      t-24      t-23  \\\n",
       "24   2023-07-02 00:00:00          7/2/2023 0:00  4750.644  4792.761  4592.205   \n",
       "25   2023-07-02 01:00:00          7/2/2023 1:00  4519.165  4592.205  4401.926   \n",
       "26   2023-07-02 02:00:00          7/2/2023 2:00  4342.193  4401.926  4292.638   \n",
       "27   2023-07-02 03:00:00          7/2/2023 3:00  4254.019  4292.638  4275.415   \n",
       "28   2023-07-02 04:00:00          7/2/2023 4:00  4219.015  4275.415  4282.584   \n",
       "...                  ...                    ...       ...       ...       ...   \n",
       "2203 2023-09-30 19:00:00        9/30/2023 19:00  5130.454  5219.729  5121.413   \n",
       "2204 2023-09-30 20:00:00        9/30/2023 20:00  4999.212  5121.413  4912.828   \n",
       "2205 2023-09-30 21:00:00        9/30/2023 21:00  4786.570  4912.828  4655.916   \n",
       "2206 2023-09-30 22:00:00        9/30/2023 22:00  4520.885  4655.916  4361.132   \n",
       "2207 2023-09-30 23:00:00        9/30/2023 23:00  4252.884  4361.132  4133.417   \n",
       "\n",
       "          t-22      t-21  hour  date  month  \n",
       "24    4401.926  4292.638     0     2      7  \n",
       "25    4292.638  4275.415     1     2      7  \n",
       "26    4275.415  4282.584     2     2      7  \n",
       "27    4282.584  4340.424     3     2      7  \n",
       "28    4340.424  4520.048     4     2      7  \n",
       "...        ...       ...   ...   ...    ...  \n",
       "2203  4912.828  4655.916    19    30      9  \n",
       "2204  4655.916  4361.132    20    30      9  \n",
       "2205  4361.132  4133.417    21    30      9  \n",
       "2206  4133.417  3996.115    22    30      9  \n",
       "2207  3996.115  3893.848    23    30      9  \n",
       "\n",
       "[2184 rows x 10 columns]"
      ]
     },
     "execution_count": 196,
     "metadata": {},
     "output_type": "execute_result"
    }
   ],
   "source": [
    "final_data = feature_addition(df_pjm_load_summer)\n",
    "final_data"
   ]
  },
  {
   "cell_type": "code",
   "execution_count": 197,
   "metadata": {
    "collapsed": true
   },
   "outputs": [],
   "source": [
    "finaldf_train_x, finaldf_train_y, finaldf_test_x, finaldf_test_y = train_test(final_data)"
   ]
  },
  {
   "cell_type": "code",
   "execution_count": 198,
   "metadata": {},
   "outputs": [
    {
     "name": "stdout",
     "output_type": "stream",
     "text": [
      "Starting model train..\n",
      "Finished model train..\n"
     ]
    }
   ],
   "source": [
    "fit = model_training(finaldf_train_x, finaldf_train_y)\n",
    "y_pred = fit.predict(finaldf_test_x)"
   ]
  },
  {
   "cell_type": "code",
   "execution_count": 199,
   "metadata": {},
   "outputs": [
    {
     "name": "stdout",
     "output_type": "stream",
     "text": [
      "Accuracy: 87.17 %.\n",
      "MAPE: 12.83 %.\n"
     ]
    }
   ],
   "source": [
    "y_true = np.array(finaldf_test['mw'])\n",
    "sumvalue=np.sum(y_true)\n",
    "mape=np.sum(np.abs((y_true - y_pred)))/sumvalue*100\n",
    "accuracy=100-mape\n",
    "print('Accuracy:', round(accuracy,2),'%.')\n",
    "print('MAPE:', round(mape,2),'%.')"
   ]
  },
  {
   "cell_type": "code",
   "execution_count": 200,
   "metadata": {},
   "outputs": [
    {
     "data": {
      "image/png": "[encoded data removed]",
      "text/plain": [
       "<Figure size 432x288 with 1 Axes>"
      ]
     },
     "metadata": {
      "needs_background": "light"
     },
     "output_type": "display_data"
    }
   ],
   "source": [
    "# Plotting true values\n",
    "plt.plot(y_true, label='True values', color='blue')\n",
    "\n",
    "# Plotting predicted values\n",
    "plt.plot(y_pred, label='Predicted values', color='red')\n",
    "\n",
    "# Adding labels and title\n",
    "plt.xlabel('Index')\n",
    "plt.ylabel('Value')\n",
    "plt.title('True vs Predicted Values')\n",
    "\n",
    "# Adding legend\n",
    "plt.legend()\n",
    "\n",
    "# Show plot\n",
    "plt.show()"
   ]
  },
  {
   "cell_type": "code",
   "execution_count": 201,
   "metadata": {},
   "outputs": [
    {
     "data": {
      "text/html": [
       "<div>\n",
       "<style scoped>\n",
       "    .dataframe tbody tr th:only-of-type {\n",
       "        vertical-align: middle;\n",
       "    }\n",
       "\n",
       "    .dataframe tbody tr th {\n",
       "        vertical-align: top;\n",
       "    }\n",
       "\n",
       "    .dataframe thead th {\n",
       "        text-align: right;\n",
       "    }\n",
       "</style>\n",
       "<table border=\"1\" class=\"dataframe\">\n",
       "  <thead>\n",
       "    <tr style=\"text-align: right;\">\n",
       "      <th></th>\n",
       "      <th>datetime</th>\n",
       "      <th>datetime_beginning_ept</th>\n",
       "      <th>mw</th>\n",
       "      <th>t-24</th>\n",
       "      <th>t-23</th>\n",
       "      <th>t-22</th>\n",
       "      <th>t-21</th>\n",
       "      <th>hour</th>\n",
       "      <th>date</th>\n",
       "      <th>month</th>\n",
       "    </tr>\n",
       "  </thead>\n",
       "  <tbody>\n",
       "    <tr>\n",
       "      <th>24</th>\n",
       "      <td>2023-10-02 00:00:00</td>\n",
       "      <td>10/2/2023 0:00</td>\n",
       "      <td>4043.349</td>\n",
       "      <td>4042.513</td>\n",
       "      <td>3850.067</td>\n",
       "      <td>3734.200</td>\n",
       "      <td>3687.402</td>\n",
       "      <td>0</td>\n",
       "      <td>2</td>\n",
       "      <td>10</td>\n",
       "    </tr>\n",
       "    <tr>\n",
       "      <th>25</th>\n",
       "      <td>2023-10-02 01:00:00</td>\n",
       "      <td>10/2/2023 1:00</td>\n",
       "      <td>3942.014</td>\n",
       "      <td>3850.067</td>\n",
       "      <td>3734.200</td>\n",
       "      <td>3687.402</td>\n",
       "      <td>3679.819</td>\n",
       "      <td>1</td>\n",
       "      <td>2</td>\n",
       "      <td>10</td>\n",
       "    </tr>\n",
       "    <tr>\n",
       "      <th>26</th>\n",
       "      <td>2023-10-02 02:00:00</td>\n",
       "      <td>10/2/2023 2:00</td>\n",
       "      <td>3875.905</td>\n",
       "      <td>3734.200</td>\n",
       "      <td>3687.402</td>\n",
       "      <td>3679.819</td>\n",
       "      <td>3689.471</td>\n",
       "      <td>2</td>\n",
       "      <td>2</td>\n",
       "      <td>10</td>\n",
       "    </tr>\n",
       "    <tr>\n",
       "      <th>27</th>\n",
       "      <td>2023-10-02 03:00:00</td>\n",
       "      <td>10/2/2023 3:00</td>\n",
       "      <td>3884.968</td>\n",
       "      <td>3687.402</td>\n",
       "      <td>3679.819</td>\n",
       "      <td>3689.471</td>\n",
       "      <td>3779.780</td>\n",
       "      <td>3</td>\n",
       "      <td>2</td>\n",
       "      <td>10</td>\n",
       "    </tr>\n",
       "    <tr>\n",
       "      <th>28</th>\n",
       "      <td>2023-10-02 04:00:00</td>\n",
       "      <td>10/2/2023 4:00</td>\n",
       "      <td>3959.682</td>\n",
       "      <td>3679.819</td>\n",
       "      <td>3689.471</td>\n",
       "      <td>3779.780</td>\n",
       "      <td>3900.555</td>\n",
       "      <td>4</td>\n",
       "      <td>2</td>\n",
       "      <td>10</td>\n",
       "    </tr>\n",
       "    <tr>\n",
       "      <th>...</th>\n",
       "      <td>...</td>\n",
       "      <td>...</td>\n",
       "      <td>...</td>\n",
       "      <td>...</td>\n",
       "      <td>...</td>\n",
       "      <td>...</td>\n",
       "      <td>...</td>\n",
       "      <td>...</td>\n",
       "      <td>...</td>\n",
       "      <td>...</td>\n",
       "    </tr>\n",
       "    <tr>\n",
       "      <th>2203</th>\n",
       "      <td>2023-12-31 19:00:00</td>\n",
       "      <td>12/31/2023 19:00</td>\n",
       "      <td>5896.602</td>\n",
       "      <td>6115.244</td>\n",
       "      <td>6034.952</td>\n",
       "      <td>5859.020</td>\n",
       "      <td>5676.595</td>\n",
       "      <td>19</td>\n",
       "      <td>31</td>\n",
       "      <td>12</td>\n",
       "    </tr>\n",
       "    <tr>\n",
       "      <th>2204</th>\n",
       "      <td>2023-12-31 20:00:00</td>\n",
       "      <td>12/31/2023 20:00</td>\n",
       "      <td>5758.356</td>\n",
       "      <td>6034.952</td>\n",
       "      <td>5859.020</td>\n",
       "      <td>5676.595</td>\n",
       "      <td>5442.550</td>\n",
       "      <td>20</td>\n",
       "      <td>31</td>\n",
       "      <td>12</td>\n",
       "    </tr>\n",
       "    <tr>\n",
       "      <th>2205</th>\n",
       "      <td>2023-12-31 21:00:00</td>\n",
       "      <td>12/31/2023 21:00</td>\n",
       "      <td>5610.514</td>\n",
       "      <td>5859.020</td>\n",
       "      <td>5676.595</td>\n",
       "      <td>5442.550</td>\n",
       "      <td>5292.831</td>\n",
       "      <td>21</td>\n",
       "      <td>31</td>\n",
       "      <td>12</td>\n",
       "    </tr>\n",
       "    <tr>\n",
       "      <th>2206</th>\n",
       "      <td>2023-12-31 22:00:00</td>\n",
       "      <td>12/31/2023 22:00</td>\n",
       "      <td>5467.885</td>\n",
       "      <td>5676.595</td>\n",
       "      <td>5442.550</td>\n",
       "      <td>5292.831</td>\n",
       "      <td>5180.083</td>\n",
       "      <td>22</td>\n",
       "      <td>31</td>\n",
       "      <td>12</td>\n",
       "    </tr>\n",
       "    <tr>\n",
       "      <th>2207</th>\n",
       "      <td>2023-12-31 23:00:00</td>\n",
       "      <td>12/31/2023 23:00</td>\n",
       "      <td>5345.135</td>\n",
       "      <td>5442.550</td>\n",
       "      <td>5292.831</td>\n",
       "      <td>5180.083</td>\n",
       "      <td>5125.046</td>\n",
       "      <td>23</td>\n",
       "      <td>31</td>\n",
       "      <td>12</td>\n",
       "    </tr>\n",
       "  </tbody>\n",
       "</table>\n",
       "<p>2184 rows × 10 columns</p>\n",
       "</div>"
      ],
      "text/plain": [
       "                datetime datetime_beginning_ept        mw      t-24      t-23  \\\n",
       "24   2023-10-02 00:00:00         10/2/2023 0:00  4043.349  4042.513  3850.067   \n",
       "25   2023-10-02 01:00:00         10/2/2023 1:00  3942.014  3850.067  3734.200   \n",
       "26   2023-10-02 02:00:00         10/2/2023 2:00  3875.905  3734.200  3687.402   \n",
       "27   2023-10-02 03:00:00         10/2/2023 3:00  3884.968  3687.402  3679.819   \n",
       "28   2023-10-02 04:00:00         10/2/2023 4:00  3959.682  3679.819  3689.471   \n",
       "...                  ...                    ...       ...       ...       ...   \n",
       "2203 2023-12-31 19:00:00       12/31/2023 19:00  5896.602  6115.244  6034.952   \n",
       "2204 2023-12-31 20:00:00       12/31/2023 20:00  5758.356  6034.952  5859.020   \n",
       "2205 2023-12-31 21:00:00       12/31/2023 21:00  5610.514  5859.020  5676.595   \n",
       "2206 2023-12-31 22:00:00       12/31/2023 22:00  5467.885  5676.595  5442.550   \n",
       "2207 2023-12-31 23:00:00       12/31/2023 23:00  5345.135  5442.550  5292.831   \n",
       "\n",
       "          t-22      t-21  hour  date  month  \n",
       "24    3734.200  3687.402     0     2     10  \n",
       "25    3687.402  3679.819     1     2     10  \n",
       "26    3679.819  3689.471     2     2     10  \n",
       "27    3689.471  3779.780     3     2     10  \n",
       "28    3779.780  3900.555     4     2     10  \n",
       "...        ...       ...   ...   ...    ...  \n",
       "2203  5859.020  5676.595    19    31     12  \n",
       "2204  5676.595  5442.550    20    31     12  \n",
       "2205  5442.550  5292.831    21    31     12  \n",
       "2206  5292.831  5180.083    22    31     12  \n",
       "2207  5180.083  5125.046    23    31     12  \n",
       "\n",
       "[2184 rows x 10 columns]"
      ]
     },
     "execution_count": 201,
     "metadata": {},
     "output_type": "execute_result"
    }
   ],
   "source": [
    "final_data = feature_addition(df_pjm_load_fall)\n",
    "final_data"
   ]
  },
  {
   "cell_type": "code",
   "execution_count": 202,
   "metadata": {
    "collapsed": true
   },
   "outputs": [],
   "source": [
    "finaldf_train_x, finaldf_train_y, finaldf_test_x, finaldf_test_y = train_test(final_data)"
   ]
  },
  {
   "cell_type": "code",
   "execution_count": 203,
   "metadata": {},
   "outputs": [
    {
     "name": "stdout",
     "output_type": "stream",
     "text": [
      "Starting model train..\n",
      "Finished model train..\n"
     ]
    }
   ],
   "source": [
    "fit = model_training(finaldf_train_x, finaldf_train_y)\n",
    "y_pred = fit.predict(finaldf_test_x)"
   ]
  },
  {
   "cell_type": "code",
   "execution_count": 204,
   "metadata": {},
   "outputs": [
    {
     "name": "stdout",
     "output_type": "stream",
     "text": [
      "Accuracy: 91.11 %.\n",
      "MAPE: 8.89 %.\n"
     ]
    }
   ],
   "source": [
    "y_true = np.array(finaldf_test['mw'])\n",
    "sumvalue=np.sum(y_true)\n",
    "mape=np.sum(np.abs((y_true - y_pred)))/sumvalue*100\n",
    "accuracy=100-mape\n",
    "print('Accuracy:', round(accuracy,2),'%.')\n",
    "print('MAPE:', round(mape,2),'%.')"
   ]
  },
  {
   "cell_type": "code",
   "execution_count": 205,
   "metadata": {},
   "outputs": [
    {
     "data": {
      "image/png": "[encoded data removed]",
      "text/plain": [
       "<Figure size 432x288 with 1 Axes>"
      ]
     },
     "metadata": {
      "needs_background": "light"
     },
     "output_type": "display_data"
    }
   ],
   "source": [
    "# Plotting true values\n",
    "plt.plot(y_true, label='True values', color='blue')\n",
    "\n",
    "# Plotting predicted values\n",
    "plt.plot(y_pred, label='Predicted values', color='red')\n",
    "\n",
    "# Adding labels and title\n",
    "plt.xlabel('Index')\n",
    "plt.ylabel('Value')\n",
    "plt.title('True vs Predicted Values')\n",
    "\n",
    "# Adding legend\n",
    "plt.legend()\n",
    "\n",
    "# Show plot\n",
    "plt.show()"
   ]
  },
  {
   "cell_type": "markdown",
   "metadata": {},
   "source": [
    "## Results and Conclusion\n",
    "\n",
    "Model accuracy varied across different seasons:\n",
    "Winter: Accuracy of 91.4%\n",
    "Spring: Accuracy of 85.26%\n",
    "Summer: Accuracy of 87.17%\n",
    "Fall: Accuracy of 91.11%\n",
    "These accuracy scores indicate the model's ability to predict load values, with higher accuracy during winter compared to other seasons.Let's visualize the results before concluding.\n",
    "\n",
    "\n"
   ]
  },
  {
   "cell_type": "code",
   "execution_count": 208,
   "metadata": {},
   "outputs": [
    {
     "data": {
      "image/png": "[encoded data removed]",
      "text/plain": [
       "<Figure size 720x360 with 1 Axes>"
      ]
     },
     "metadata": {
      "needs_background": "light"
     },
     "output_type": "display_data"
    }
   ],
   "source": [
    "# creating the dataset\n",
    "data = {'Winter':91.4, 'Spring':85.26, 'Summer':87.17, \n",
    "        'Fall':91.11}\n",
    "Seasons = list(data.keys())\n",
    "Accuracy = list(data.values())\n",
    "  \n",
    "fig = plt.figure(figsize = (10, 5))\n",
    " \n",
    "# creating the bar plot\n",
    "plt.bar(Seasons, Accuracy, color ='maroon', \n",
    "        width = 0.4)\n",
    " # Adding values on top of the bars\n",
    "for i, value in enumerate(Accuracy):\n",
    "    plt.text(i, value + 1, str(value), ha='center', va='bottom')\n",
    "    \n",
    "plt.ylim(80,100)\n",
    "plt.xlabel(\"Seasons\")\n",
    "plt.ylabel(\"Accuracy\")\n",
    "plt.title(\"Performance of Forecasting Approach for Different Seasons\")\n",
    "plt.show()"
   ]
  },
  {
   "cell_type": "markdown",
   "metadata": {
    "collapsed": true
   },
   "source": [
    "## Insights\n",
    "\n",
    "The analysis revealed distinct load patterns across different seasons, influenced by factors such as temperature, daylight hours, and human behavior.\n",
    "Lag features and temporal features significantly improved the model's predictive performance, capturing underlying load dependencies and seasonal trends.\n",
    "Further research could focus on incorporating additional features such as weather data to enhance load forecasting accuracy.\n"
   ]
  },
  {
   "cell_type": "code",
   "execution_count": null,
   "metadata": {},
   "outputs": [],
   "source": []
  }
 ],
 "metadata": {
  "kernelspec": {
   "display_name": "Python 3 (ipykernel)",
   "language": "python",
   "name": "python3"
  },
  "language_info": {
   "codemirror_mode": {
    "name": "ipython",
    "version": 3
   },
   "file_extension": ".py",
   "mimetype": "text/x-python",
   "name": "python",
   "nbconvert_exporter": "python",
   "pygments_lexer": "ipython3",
   "version": "3.11.4"
  }
 },
 "nbformat": 4,
 "nbformat_minor": 2
}
